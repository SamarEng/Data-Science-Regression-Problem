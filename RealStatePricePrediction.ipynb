{
 "cells": [
  {
   "cell_type": "code",
   "execution_count": 71,
   "id": "f7248f4f-b8fe-4eae-a2cf-f90b4f9b1919",
   "metadata": {},
   "outputs": [],
   "source": [
    "import pandas as pd\n",
    "import numpy as np\n",
    "import matplotlib.pyplot as plt\n",
    "import seaborn as sns\n",
    "\n",
    "from sklearn import preprocessing\n",
    "from sklearn.model_selection import train_test_split\n",
    "from sklearn.linear_model import LinearRegression"
   ]
  },
  {
   "cell_type": "code",
   "execution_count": 72,
   "id": "af93af81-beca-4bdd-82fb-3abae591217b",
   "metadata": {},
   "outputs": [],
   "source": [
    "df=pd.read_excel('Real State Data.xlsx')"
   ]
  },
  {
   "cell_type": "code",
   "execution_count": 73,
   "id": "8b923b1b-bd28-4a90-9d87-0e5f21596879",
   "metadata": {},
   "outputs": [
    {
     "name": "stdout",
     "output_type": "stream",
     "text": [
      "<class 'pandas.core.frame.DataFrame'>\n",
      "RangeIndex: 42 entries, 0 to 41\n",
      "Data columns (total 29 columns):\n",
      " #   Column               Non-Null Count  Dtype \n",
      "---  ------               --------------  ----- \n",
      " 0   PriceTotal           42 non-null     object\n",
      " 1   Meterage             42 non-null     object\n",
      " 2   Year                 42 non-null     object\n",
      " 3   Room No              42 non-null     object\n",
      " 4   Floor No             42 non-null     object\n",
      " 5   Building Floors      42 non-null     object\n",
      " 6   Units Per Floor      42 non-null     object\n",
      " 7   Parking Lot          42 non-null     object\n",
      " 8   Elevator             42 non-null     object\n",
      " 9   Warehouse            42 non-null     object\n",
      " 10  Balcony              42 non-null     object\n",
      " 11  Add Parking          42 non-null     object\n",
      " 12  Joint Parking        42 non-null     object\n",
      " 13  Living Room Window   42 non-null     object\n",
      " 14  Renovation Status    42 non-null     object\n",
      " 15  Floor Covering       42 non-null     object\n",
      " 16  Cabinet              42 non-null     object\n",
      " 17  Bathroom             42 non-null     object\n",
      " 18  Heating              42 non-null     object\n",
      " 19  Cooling              42 non-null     object\n",
      " 20  Water Heating        42 non-null     object\n",
      " 21  Hood                 42 non-null     object\n",
      " 22  Desktop Stove        42 non-null     object\n",
      " 23  Closet               42 non-null     object\n",
      " 24  Building Direction   42 non-null     object\n",
      " 25  Apartment Direction  42 non-null     object\n",
      " 26  Joint Status         42 non-null     object\n",
      " 27  Address              42 non-null     object\n",
      " 28  Address in Farsi     41 non-null     object\n",
      "dtypes: object(29)\n",
      "memory usage: 9.6+ KB\n"
     ]
    }
   ],
   "source": [
    "df.info()"
   ]
  },
  {
   "cell_type": "code",
   "execution_count": 74,
   "id": "5d4712ab-7d00-4d9c-840a-cf5957612112",
   "metadata": {},
   "outputs": [
    {
     "data": {
      "text/html": [
       "<div>\n",
       "<style scoped>\n",
       "    .dataframe tbody tr th:only-of-type {\n",
       "        vertical-align: middle;\n",
       "    }\n",
       "\n",
       "    .dataframe tbody tr th {\n",
       "        vertical-align: top;\n",
       "    }\n",
       "\n",
       "    .dataframe thead th {\n",
       "        text-align: right;\n",
       "    }\n",
       "</style>\n",
       "<table border=\"1\" class=\"dataframe\">\n",
       "  <thead>\n",
       "    <tr style=\"text-align: right;\">\n",
       "      <th></th>\n",
       "      <th>PriceTotal</th>\n",
       "      <th>Meterage</th>\n",
       "      <th>Year</th>\n",
       "      <th>Room No</th>\n",
       "      <th>Floor No</th>\n",
       "      <th>Building Floors</th>\n",
       "      <th>Units Per Floor</th>\n",
       "      <th>Parking Lot</th>\n",
       "      <th>Elevator</th>\n",
       "      <th>Warehouse</th>\n",
       "      <th>...</th>\n",
       "      <th>Cooling</th>\n",
       "      <th>Water Heating</th>\n",
       "      <th>Hood</th>\n",
       "      <th>Desktop Stove</th>\n",
       "      <th>Closet</th>\n",
       "      <th>Building Direction</th>\n",
       "      <th>Apartment Direction</th>\n",
       "      <th>Joint Status</th>\n",
       "      <th>Address</th>\n",
       "      <th>Address in Farsi</th>\n",
       "    </tr>\n",
       "  </thead>\n",
       "  <tbody>\n",
       "    <tr>\n",
       "      <th>0</th>\n",
       "      <td>In Milliard Tooman</td>\n",
       "      <td>in mm</td>\n",
       "      <td>Construction Year</td>\n",
       "      <td>Just bedrooms are counted</td>\n",
       "      <td>Apartment floor</td>\n",
       "      <td>Number of floors in the building</td>\n",
       "      <td>Number of apartments in the floor of this apar...</td>\n",
       "      <td>Number of certified Parkings</td>\n",
       "      <td>0: Not Available, 1: Available</td>\n",
       "      <td>0: Not Available, 1: Available</td>\n",
       "      <td>...</td>\n",
       "      <td>0: Water cooler, 1: Split/Duct, 2: Others</td>\n",
       "      <td>0: Water Heater, 1: Radiator Package, 2: Central</td>\n",
       "      <td>0: Not Available, 1: Hidden , 2: Old 3:  Modern</td>\n",
       "      <td>0: Not Available, 1: Available</td>\n",
       "      <td>Number of closets in rooms</td>\n",
       "      <td>If yard is in the front and is visible at the ...</td>\n",
       "      <td>View if apartment</td>\n",
       "      <td>Joint Property Status according to be cleaned,...</td>\n",
       "      <td>Region</td>\n",
       "      <td>NaN</td>\n",
       "    </tr>\n",
       "    <tr>\n",
       "      <th>1</th>\n",
       "      <td>7.55</td>\n",
       "      <td>90</td>\n",
       "      <td>1397</td>\n",
       "      <td>2</td>\n",
       "      <td>2</td>\n",
       "      <td>5</td>\n",
       "      <td>2</td>\n",
       "      <td>1</td>\n",
       "      <td>1</td>\n",
       "      <td>1</td>\n",
       "      <td>...</td>\n",
       "      <td>NAN</td>\n",
       "      <td>NAN</td>\n",
       "      <td>NAN</td>\n",
       "      <td>NAN</td>\n",
       "      <td>2</td>\n",
       "      <td>South</td>\n",
       "      <td>South</td>\n",
       "      <td>NAN</td>\n",
       "      <td>Behnood</td>\n",
       "      <td>بهنود.کوچه شیربانی</td>\n",
       "    </tr>\n",
       "    <tr>\n",
       "      <th>2</th>\n",
       "      <td>2.25</td>\n",
       "      <td>37</td>\n",
       "      <td>1383</td>\n",
       "      <td>1</td>\n",
       "      <td>1</td>\n",
       "      <td>4</td>\n",
       "      <td>1</td>\n",
       "      <td>0</td>\n",
       "      <td>0</td>\n",
       "      <td>1</td>\n",
       "      <td>...</td>\n",
       "      <td>1</td>\n",
       "      <td>NAN</td>\n",
       "      <td>3</td>\n",
       "      <td>1</td>\n",
       "      <td>NAN</td>\n",
       "      <td>NAN</td>\n",
       "      <td>NAN</td>\n",
       "      <td>NAN</td>\n",
       "      <td>Ghasredasht_Behnood</td>\n",
       "      <td>قصرالدشت بهنود</td>\n",
       "    </tr>\n",
       "    <tr>\n",
       "      <th>3</th>\n",
       "      <td>3.95</td>\n",
       "      <td>59</td>\n",
       "      <td>1388</td>\n",
       "      <td>2</td>\n",
       "      <td>1</td>\n",
       "      <td>4</td>\n",
       "      <td>1</td>\n",
       "      <td>0</td>\n",
       "      <td>0</td>\n",
       "      <td>1</td>\n",
       "      <td>...</td>\n",
       "      <td>0</td>\n",
       "      <td>1</td>\n",
       "      <td>3</td>\n",
       "      <td>1</td>\n",
       "      <td>1</td>\n",
       "      <td>NAN</td>\n",
       "      <td>NAN</td>\n",
       "      <td>NAN</td>\n",
       "      <td>Ghasredasht_Behnood</td>\n",
       "      <td>قصرالدشت پایینتر از آذربایجان</td>\n",
       "    </tr>\n",
       "    <tr>\n",
       "      <th>4</th>\n",
       "      <td>3.35</td>\n",
       "      <td>63</td>\n",
       "      <td>1382</td>\n",
       "      <td>2</td>\n",
       "      <td>2</td>\n",
       "      <td>4</td>\n",
       "      <td>2</td>\n",
       "      <td>0</td>\n",
       "      <td>0</td>\n",
       "      <td>1</td>\n",
       "      <td>...</td>\n",
       "      <td>0</td>\n",
       "      <td>0</td>\n",
       "      <td>NAN</td>\n",
       "      <td>NAN</td>\n",
       "      <td>NAN</td>\n",
       "      <td>North</td>\n",
       "      <td>NAN</td>\n",
       "      <td>NAN</td>\n",
       "      <td>Mashouf_Behnood</td>\n",
       "      <td>بالای بهنود</td>\n",
       "    </tr>\n",
       "  </tbody>\n",
       "</table>\n",
       "<p>5 rows × 29 columns</p>\n",
       "</div>"
      ],
      "text/plain": [
       "           PriceTotal Meterage               Year                    Room No  \\\n",
       "0  In Milliard Tooman    in mm  Construction Year  Just bedrooms are counted   \n",
       "1                7.55       90               1397                          2   \n",
       "2                2.25       37               1383                          1   \n",
       "3                3.95       59               1388                          2   \n",
       "4                3.35       63               1382                          2   \n",
       "\n",
       "          Floor No                   Building Floors  \\\n",
       "0  Apartment floor  Number of floors in the building   \n",
       "1                2                                 5   \n",
       "2                1                                 4   \n",
       "3                1                                 4   \n",
       "4                2                                 4   \n",
       "\n",
       "                                     Units Per Floor  \\\n",
       "0  Number of apartments in the floor of this apar...   \n",
       "1                                                  2   \n",
       "2                                                  1   \n",
       "3                                                  1   \n",
       "4                                                  2   \n",
       "\n",
       "                    Parking Lot                        Elevator  \\\n",
       "0  Number of certified Parkings  0: Not Available, 1: Available   \n",
       "1                             1                               1   \n",
       "2                             0                               0   \n",
       "3                             0                               0   \n",
       "4                             0                               0   \n",
       "\n",
       "                        Warehouse  ...  \\\n",
       "0  0: Not Available, 1: Available  ...   \n",
       "1                               1  ...   \n",
       "2                               1  ...   \n",
       "3                               1  ...   \n",
       "4                               1  ...   \n",
       "\n",
       "                                     Cooling  \\\n",
       "0  0: Water cooler, 1: Split/Duct, 2: Others   \n",
       "1                                        NAN   \n",
       "2                                          1   \n",
       "3                                          0   \n",
       "4                                          0   \n",
       "\n",
       "                                      Water Heating  \\\n",
       "0  0: Water Heater, 1: Radiator Package, 2: Central   \n",
       "1                                               NAN   \n",
       "2                                               NAN   \n",
       "3                                                 1   \n",
       "4                                                 0   \n",
       "\n",
       "                                              Hood  \\\n",
       "0  0: Not Available, 1: Hidden , 2: Old 3:  Modern   \n",
       "1                                              NAN   \n",
       "2                                                3   \n",
       "3                                                3   \n",
       "4                                              NAN   \n",
       "\n",
       "                    Desktop Stove                      Closet  \\\n",
       "0  0: Not Available, 1: Available  Number of closets in rooms   \n",
       "1                             NAN                           2   \n",
       "2                               1                         NAN   \n",
       "3                               1                           1   \n",
       "4                             NAN                         NAN   \n",
       "\n",
       "                                  Building Direction Apartment Direction  \\\n",
       "0  If yard is in the front and is visible at the ...   View if apartment   \n",
       "1                                              South               South   \n",
       "2                                                NAN                 NAN   \n",
       "3                                                NAN                 NAN   \n",
       "4                                              North                 NAN   \n",
       "\n",
       "                                        Joint Status              Address  \\\n",
       "0  Joint Property Status according to be cleaned,...               Region   \n",
       "1                                                NAN              Behnood   \n",
       "2                                                NAN  Ghasredasht_Behnood   \n",
       "3                                                NAN  Ghasredasht_Behnood   \n",
       "4                                                NAN      Mashouf_Behnood   \n",
       "\n",
       "                Address in Farsi  \n",
       "0                            NaN  \n",
       "1             بهنود.کوچه شیربانی  \n",
       "2                 قصرالدشت بهنود  \n",
       "3  قصرالدشت پایینتر از آذربایجان  \n",
       "4                    بالای بهنود  \n",
       "\n",
       "[5 rows x 29 columns]"
      ]
     },
     "execution_count": 74,
     "metadata": {},
     "output_type": "execute_result"
    }
   ],
   "source": [
    "df.head()"
   ]
  },
  {
   "cell_type": "code",
   "execution_count": 75,
   "id": "226680f6-4aff-453a-92d2-7b076b346b74",
   "metadata": {},
   "outputs": [],
   "source": [
    "df.replace('NAN',np.nan,inplace=True)"
   ]
  },
  {
   "cell_type": "code",
   "execution_count": 76,
   "id": "5ef23209-4c58-4251-a9d0-3b948d6af2ca",
   "metadata": {},
   "outputs": [
    {
     "name": "stdout",
     "output_type": "stream",
     "text": [
      "<class 'pandas.core.frame.DataFrame'>\n",
      "RangeIndex: 42 entries, 0 to 41\n",
      "Data columns (total 29 columns):\n",
      " #   Column               Non-Null Count  Dtype \n",
      "---  ------               --------------  ----- \n",
      " 0   PriceTotal           42 non-null     object\n",
      " 1   Meterage             42 non-null     object\n",
      " 2   Year                 42 non-null     object\n",
      " 3   Room No              42 non-null     object\n",
      " 4   Floor No             42 non-null     object\n",
      " 5   Building Floors      36 non-null     object\n",
      " 6   Units Per Floor      40 non-null     object\n",
      " 7   Parking Lot          42 non-null     object\n",
      " 8   Elevator             42 non-null     object\n",
      " 9   Warehouse            42 non-null     object\n",
      " 10  Balcony              35 non-null     object\n",
      " 11  Add Parking          42 non-null     object\n",
      " 12  Joint Parking        42 non-null     object\n",
      " 13  Living Room Window   27 non-null     object\n",
      " 14  Renovation Status    31 non-null     object\n",
      " 15  Floor Covering       35 non-null     object\n",
      " 16  Cabinet              26 non-null     object\n",
      " 17  Bathroom             32 non-null     object\n",
      " 18  Heating              33 non-null     object\n",
      " 19  Cooling              33 non-null     object\n",
      " 20  Water Heating        29 non-null     object\n",
      " 21  Hood                 22 non-null     object\n",
      " 22  Desktop Stove        21 non-null     object\n",
      " 23  Closet               18 non-null     object\n",
      " 24  Building Direction   20 non-null     object\n",
      " 25  Apartment Direction  2 non-null      object\n",
      " 26  Joint Status         11 non-null     object\n",
      " 27  Address              42 non-null     object\n",
      " 28  Address in Farsi     41 non-null     object\n",
      "dtypes: object(29)\n",
      "memory usage: 9.6+ KB\n"
     ]
    }
   ],
   "source": [
    "df.info()"
   ]
  },
  {
   "cell_type": "code",
   "execution_count": 77,
   "id": "62819497-045c-4790-8de3-f78e9fc3e2f0",
   "metadata": {},
   "outputs": [],
   "source": [
    "# The first row gives some information about the contents of each column, so droped.\n",
    "# Also Address in Farsi in not needed, so dropeed.\n",
    "df.drop(0,axis=0,inplace=True)\n",
    "df.drop('Address in Farsi',axis=1,inplace=True)"
   ]
  },
  {
   "cell_type": "code",
   "execution_count": 78,
   "id": "bca6af7f-4ae2-4d71-afbf-66657d7781e1",
   "metadata": {},
   "outputs": [
    {
     "data": {
      "text/html": [
       "<div>\n",
       "<style scoped>\n",
       "    .dataframe tbody tr th:only-of-type {\n",
       "        vertical-align: middle;\n",
       "    }\n",
       "\n",
       "    .dataframe tbody tr th {\n",
       "        vertical-align: top;\n",
       "    }\n",
       "\n",
       "    .dataframe thead th {\n",
       "        text-align: right;\n",
       "    }\n",
       "</style>\n",
       "<table border=\"1\" class=\"dataframe\">\n",
       "  <thead>\n",
       "    <tr style=\"text-align: right;\">\n",
       "      <th></th>\n",
       "      <th>PriceTotal</th>\n",
       "      <th>Meterage</th>\n",
       "      <th>Year</th>\n",
       "      <th>Room No</th>\n",
       "      <th>Floor No</th>\n",
       "      <th>Building Floors</th>\n",
       "      <th>Units Per Floor</th>\n",
       "      <th>Parking Lot</th>\n",
       "      <th>Elevator</th>\n",
       "      <th>Warehouse</th>\n",
       "      <th>...</th>\n",
       "      <th>Heating</th>\n",
       "      <th>Cooling</th>\n",
       "      <th>Water Heating</th>\n",
       "      <th>Hood</th>\n",
       "      <th>Desktop Stove</th>\n",
       "      <th>Closet</th>\n",
       "      <th>Building Direction</th>\n",
       "      <th>Apartment Direction</th>\n",
       "      <th>Joint Status</th>\n",
       "      <th>Address</th>\n",
       "    </tr>\n",
       "  </thead>\n",
       "  <tbody>\n",
       "    <tr>\n",
       "      <th>1</th>\n",
       "      <td>7.55</td>\n",
       "      <td>90</td>\n",
       "      <td>1397</td>\n",
       "      <td>2</td>\n",
       "      <td>2</td>\n",
       "      <td>5</td>\n",
       "      <td>2</td>\n",
       "      <td>1</td>\n",
       "      <td>1</td>\n",
       "      <td>1</td>\n",
       "      <td>...</td>\n",
       "      <td>NaN</td>\n",
       "      <td>NaN</td>\n",
       "      <td>NaN</td>\n",
       "      <td>NaN</td>\n",
       "      <td>NaN</td>\n",
       "      <td>2</td>\n",
       "      <td>South</td>\n",
       "      <td>South</td>\n",
       "      <td>NaN</td>\n",
       "      <td>Behnood</td>\n",
       "    </tr>\n",
       "    <tr>\n",
       "      <th>2</th>\n",
       "      <td>2.25</td>\n",
       "      <td>37</td>\n",
       "      <td>1383</td>\n",
       "      <td>1</td>\n",
       "      <td>1</td>\n",
       "      <td>4</td>\n",
       "      <td>1</td>\n",
       "      <td>0</td>\n",
       "      <td>0</td>\n",
       "      <td>1</td>\n",
       "      <td>...</td>\n",
       "      <td>1</td>\n",
       "      <td>1</td>\n",
       "      <td>NaN</td>\n",
       "      <td>3</td>\n",
       "      <td>1</td>\n",
       "      <td>NaN</td>\n",
       "      <td>NaN</td>\n",
       "      <td>NaN</td>\n",
       "      <td>NaN</td>\n",
       "      <td>Ghasredasht_Behnood</td>\n",
       "    </tr>\n",
       "    <tr>\n",
       "      <th>3</th>\n",
       "      <td>3.95</td>\n",
       "      <td>59</td>\n",
       "      <td>1388</td>\n",
       "      <td>2</td>\n",
       "      <td>1</td>\n",
       "      <td>4</td>\n",
       "      <td>1</td>\n",
       "      <td>0</td>\n",
       "      <td>0</td>\n",
       "      <td>1</td>\n",
       "      <td>...</td>\n",
       "      <td>1</td>\n",
       "      <td>0</td>\n",
       "      <td>1</td>\n",
       "      <td>3</td>\n",
       "      <td>1</td>\n",
       "      <td>1</td>\n",
       "      <td>NaN</td>\n",
       "      <td>NaN</td>\n",
       "      <td>NaN</td>\n",
       "      <td>Ghasredasht_Behnood</td>\n",
       "    </tr>\n",
       "    <tr>\n",
       "      <th>4</th>\n",
       "      <td>3.35</td>\n",
       "      <td>63</td>\n",
       "      <td>1382</td>\n",
       "      <td>2</td>\n",
       "      <td>2</td>\n",
       "      <td>4</td>\n",
       "      <td>2</td>\n",
       "      <td>0</td>\n",
       "      <td>0</td>\n",
       "      <td>1</td>\n",
       "      <td>...</td>\n",
       "      <td>0</td>\n",
       "      <td>0</td>\n",
       "      <td>0</td>\n",
       "      <td>NaN</td>\n",
       "      <td>NaN</td>\n",
       "      <td>NaN</td>\n",
       "      <td>North</td>\n",
       "      <td>NaN</td>\n",
       "      <td>NaN</td>\n",
       "      <td>Mashouf_Behnood</td>\n",
       "    </tr>\n",
       "    <tr>\n",
       "      <th>5</th>\n",
       "      <td>2.85</td>\n",
       "      <td>70</td>\n",
       "      <td>1375</td>\n",
       "      <td>1</td>\n",
       "      <td>2</td>\n",
       "      <td>3</td>\n",
       "      <td>2</td>\n",
       "      <td>0</td>\n",
       "      <td>0</td>\n",
       "      <td>1</td>\n",
       "      <td>...</td>\n",
       "      <td>0</td>\n",
       "      <td>0</td>\n",
       "      <td>0</td>\n",
       "      <td>NaN</td>\n",
       "      <td>NaN</td>\n",
       "      <td>NaN</td>\n",
       "      <td>South</td>\n",
       "      <td>NaN</td>\n",
       "      <td>NaN</td>\n",
       "      <td>Karoon_Behnood</td>\n",
       "    </tr>\n",
       "  </tbody>\n",
       "</table>\n",
       "<p>5 rows × 28 columns</p>\n",
       "</div>"
      ],
      "text/plain": [
       "  PriceTotal Meterage  Year Room No Floor No Building Floors Units Per Floor  \\\n",
       "1       7.55       90  1397       2        2               5               2   \n",
       "2       2.25       37  1383       1        1               4               1   \n",
       "3       3.95       59  1388       2        1               4               1   \n",
       "4       3.35       63  1382       2        2               4               2   \n",
       "5       2.85       70  1375       1        2               3               2   \n",
       "\n",
       "  Parking Lot Elevator Warehouse  ... Heating Cooling Water Heating Hood  \\\n",
       "1           1        1         1  ...     NaN     NaN           NaN  NaN   \n",
       "2           0        0         1  ...       1       1           NaN    3   \n",
       "3           0        0         1  ...       1       0             1    3   \n",
       "4           0        0         1  ...       0       0             0  NaN   \n",
       "5           0        0         1  ...       0       0             0  NaN   \n",
       "\n",
       "  Desktop Stove Closet Building Direction Apartment Direction Joint Status  \\\n",
       "1           NaN      2              South               South          NaN   \n",
       "2             1    NaN                NaN                 NaN          NaN   \n",
       "3             1      1                NaN                 NaN          NaN   \n",
       "4           NaN    NaN              North                 NaN          NaN   \n",
       "5           NaN    NaN              South                 NaN          NaN   \n",
       "\n",
       "               Address  \n",
       "1              Behnood  \n",
       "2  Ghasredasht_Behnood  \n",
       "3  Ghasredasht_Behnood  \n",
       "4      Mashouf_Behnood  \n",
       "5       Karoon_Behnood  \n",
       "\n",
       "[5 rows x 28 columns]"
      ]
     },
     "execution_count": 78,
     "metadata": {},
     "output_type": "execute_result"
    }
   ],
   "source": [
    "df.head()"
   ]
  },
  {
   "cell_type": "code",
   "execution_count": 79,
   "id": "b2916bf2-6e0a-47f2-b48f-e6cfbf3ba7af",
   "metadata": {},
   "outputs": [
    {
     "name": "stdout",
     "output_type": "stream",
     "text": [
      "<class 'pandas.core.frame.DataFrame'>\n",
      "RangeIndex: 41 entries, 1 to 41\n",
      "Data columns (total 28 columns):\n",
      " #   Column               Non-Null Count  Dtype \n",
      "---  ------               --------------  ----- \n",
      " 0   PriceTotal           41 non-null     object\n",
      " 1   Meterage             41 non-null     object\n",
      " 2   Year                 41 non-null     object\n",
      " 3   Room No              41 non-null     object\n",
      " 4   Floor No             41 non-null     object\n",
      " 5   Building Floors      35 non-null     object\n",
      " 6   Units Per Floor      39 non-null     object\n",
      " 7   Parking Lot          41 non-null     object\n",
      " 8   Elevator             41 non-null     object\n",
      " 9   Warehouse            41 non-null     object\n",
      " 10  Balcony              34 non-null     object\n",
      " 11  Add Parking          41 non-null     object\n",
      " 12  Joint Parking        41 non-null     object\n",
      " 13  Living Room Window   26 non-null     object\n",
      " 14  Renovation Status    30 non-null     object\n",
      " 15  Floor Covering       34 non-null     object\n",
      " 16  Cabinet              25 non-null     object\n",
      " 17  Bathroom             31 non-null     object\n",
      " 18  Heating              32 non-null     object\n",
      " 19  Cooling              32 non-null     object\n",
      " 20  Water Heating        28 non-null     object\n",
      " 21  Hood                 21 non-null     object\n",
      " 22  Desktop Stove        20 non-null     object\n",
      " 23  Closet               17 non-null     object\n",
      " 24  Building Direction   19 non-null     object\n",
      " 25  Apartment Direction  1 non-null      object\n",
      " 26  Joint Status         10 non-null     object\n",
      " 27  Address              41 non-null     object\n",
      "dtypes: object(28)\n",
      "memory usage: 9.1+ KB\n"
     ]
    }
   ],
   "source": [
    "df.info()"
   ]
  },
  {
   "cell_type": "code",
   "execution_count": 80,
   "id": "bedc8f18-d4ae-48e8-b403-ecc1666444e3",
   "metadata": {},
   "outputs": [],
   "source": [
    "# to correct the RangeIndex\n",
    "df.reset_index(drop=True, inplace=True)"
   ]
  },
  {
   "cell_type": "code",
   "execution_count": 81,
   "id": "79c4d7b1-e644-44b2-85e5-6046d0db5bc7",
   "metadata": {},
   "outputs": [
    {
     "name": "stdout",
     "output_type": "stream",
     "text": [
      "<class 'pandas.core.frame.DataFrame'>\n",
      "RangeIndex: 41 entries, 0 to 40\n",
      "Data columns (total 28 columns):\n",
      " #   Column               Non-Null Count  Dtype \n",
      "---  ------               --------------  ----- \n",
      " 0   PriceTotal           41 non-null     object\n",
      " 1   Meterage             41 non-null     object\n",
      " 2   Year                 41 non-null     object\n",
      " 3   Room No              41 non-null     object\n",
      " 4   Floor No             41 non-null     object\n",
      " 5   Building Floors      35 non-null     object\n",
      " 6   Units Per Floor      39 non-null     object\n",
      " 7   Parking Lot          41 non-null     object\n",
      " 8   Elevator             41 non-null     object\n",
      " 9   Warehouse            41 non-null     object\n",
      " 10  Balcony              34 non-null     object\n",
      " 11  Add Parking          41 non-null     object\n",
      " 12  Joint Parking        41 non-null     object\n",
      " 13  Living Room Window   26 non-null     object\n",
      " 14  Renovation Status    30 non-null     object\n",
      " 15  Floor Covering       34 non-null     object\n",
      " 16  Cabinet              25 non-null     object\n",
      " 17  Bathroom             31 non-null     object\n",
      " 18  Heating              32 non-null     object\n",
      " 19  Cooling              32 non-null     object\n",
      " 20  Water Heating        28 non-null     object\n",
      " 21  Hood                 21 non-null     object\n",
      " 22  Desktop Stove        20 non-null     object\n",
      " 23  Closet               17 non-null     object\n",
      " 24  Building Direction   19 non-null     object\n",
      " 25  Apartment Direction  1 non-null      object\n",
      " 26  Joint Status         10 non-null     object\n",
      " 27  Address              41 non-null     object\n",
      "dtypes: object(28)\n",
      "memory usage: 9.1+ KB\n"
     ]
    }
   ],
   "source": [
    "df.info()"
   ]
  },
  {
   "cell_type": "code",
   "execution_count": 82,
   "id": "ceddb360-06e3-46dd-a6ae-28a85d239ca5",
   "metadata": {},
   "outputs": [
    {
     "data": {
      "text/plain": [
       "PriceTotal              0\n",
       "Meterage                0\n",
       "Year                    0\n",
       "Room No                 0\n",
       "Floor No                0\n",
       "Building Floors         6\n",
       "Units Per Floor         2\n",
       "Parking Lot             0\n",
       "Elevator                0\n",
       "Warehouse               0\n",
       "Balcony                 7\n",
       "Add Parking             0\n",
       "Joint Parking           0\n",
       "Living Room Window     15\n",
       "Renovation Status      11\n",
       "Floor Covering          7\n",
       "Cabinet                16\n",
       "Bathroom               10\n",
       "Heating                 9\n",
       "Cooling                 9\n",
       "Water Heating          13\n",
       "Hood                   20\n",
       "Desktop Stove          21\n",
       "Closet                 24\n",
       "Building Direction     22\n",
       "Apartment Direction    40\n",
       "Joint Status           31\n",
       "Address                 0\n",
       "dtype: int64"
      ]
     },
     "execution_count": 82,
     "metadata": {},
     "output_type": "execute_result"
    }
   ],
   "source": [
    "df.isnull().sum()"
   ]
  },
  {
   "cell_type": "code",
   "execution_count": 83,
   "id": "d4e8a70d-9eed-49ae-b904-2220b70d84c9",
   "metadata": {},
   "outputs": [],
   "source": [
    "# The sample numbers are too low. So many of them should be droped in order to reach an accurate solution. I decided to drop all the columns with null values. \n",
    "for i in df.columns:\n",
    "    if df[i].isnull().sum()>0:\n",
    "        df.drop(i,axis=1,inplace=True)"
   ]
  },
  {
   "cell_type": "code",
   "execution_count": 84,
   "id": "cb52b43d-b977-4588-8ec2-1fc2aaedac2a",
   "metadata": {},
   "outputs": [
    {
     "name": "stdout",
     "output_type": "stream",
     "text": [
      "<class 'pandas.core.frame.DataFrame'>\n",
      "RangeIndex: 41 entries, 0 to 40\n",
      "Data columns (total 11 columns):\n",
      " #   Column         Non-Null Count  Dtype \n",
      "---  ------         --------------  ----- \n",
      " 0   PriceTotal     41 non-null     object\n",
      " 1   Meterage       41 non-null     object\n",
      " 2   Year           41 non-null     object\n",
      " 3   Room No        41 non-null     object\n",
      " 4   Floor No       41 non-null     object\n",
      " 5   Parking Lot    41 non-null     object\n",
      " 6   Elevator       41 non-null     object\n",
      " 7   Warehouse      41 non-null     object\n",
      " 8   Add Parking    41 non-null     object\n",
      " 9   Joint Parking  41 non-null     object\n",
      " 10  Address        41 non-null     object\n",
      "dtypes: object(11)\n",
      "memory usage: 3.7+ KB\n"
     ]
    }
   ],
   "source": [
    "df.info()"
   ]
  },
  {
   "cell_type": "code",
   "execution_count": 85,
   "id": "f3d6ba05-5ffe-42b3-8db3-047c218a6857",
   "metadata": {},
   "outputs": [
    {
     "data": {
      "text/plain": [
       "Add Parking\n",
       "0    37\n",
       "1     4\n",
       "Name: count, dtype: int64"
      ]
     },
     "execution_count": 85,
     "metadata": {},
     "output_type": "execute_result"
    }
   ],
   "source": [
    "df['Add Parking'].value_counts()"
   ]
  },
  {
   "cell_type": "code",
   "execution_count": 86,
   "id": "a9b080dd-9b0b-4b58-a630-c15a1cb882e2",
   "metadata": {},
   "outputs": [
    {
     "data": {
      "text/plain": [
       "<Axes: xlabel='Add Parking', ylabel='PriceTotal'>"
      ]
     },
     "execution_count": 86,
     "metadata": {},
     "output_type": "execute_result"
    },
    {
     "data": {
      "image/png": "[encoded data removed]",
      "text/plain": [
       "<Figure size 640x480 with 1 Axes>"
      ]
     },
     "metadata": {},
     "output_type": "display_data"
    }
   ],
   "source": [
    "sns.boxplot(y='PriceTotal',x='Add Parking',data=df,width=0.8)"
   ]
  },
  {
   "cell_type": "code",
   "execution_count": 87,
   "id": "b1e37ca9-7f93-41fc-8834-3d70be8b1297",
   "metadata": {},
   "outputs": [
    {
     "data": {
      "text/plain": [
       "Joint Parking\n",
       "0    37\n",
       "1     4\n",
       "Name: count, dtype: int64"
      ]
     },
     "execution_count": 87,
     "metadata": {},
     "output_type": "execute_result"
    }
   ],
   "source": [
    "df['Joint Parking'].value_counts()"
   ]
  },
  {
   "cell_type": "code",
   "execution_count": 88,
   "id": "8fc2bd9b-2370-42f6-8fd6-4b7ee3da7cc7",
   "metadata": {},
   "outputs": [
    {
     "data": {
      "text/plain": [
       "<Axes: xlabel='Joint Parking', ylabel='PriceTotal'>"
      ]
     },
     "execution_count": 88,
     "metadata": {},
     "output_type": "execute_result"
    },
    {
     "data": {
      "image/png": "[encoded data removed]",
      "text/plain": [
       "<Figure size 640x480 with 1 Axes>"
      ]
     },
     "metadata": {},
     "output_type": "display_data"
    }
   ],
   "source": [
    "sns.boxplot(y='PriceTotal',x='Joint Parking',data=df,width=0.8)"
   ]
  },
  {
   "cell_type": "code",
   "execution_count": 89,
   "id": "3c0bfbfe-73ce-4f45-bdcf-558284b2681c",
   "metadata": {},
   "outputs": [],
   "source": [
    "# 'Add Parking' doesn't seem to have a considerable effect on total price, so droped.\n",
    "df.drop('Add Parking',axis=1,inplace=True)"
   ]
  },
  {
   "cell_type": "code",
   "execution_count": 90,
   "id": "a014e540-f223-4bca-85e6-7202eccd35eb",
   "metadata": {},
   "outputs": [
    {
     "name": "stdout",
     "output_type": "stream",
     "text": [
      "<class 'pandas.core.frame.DataFrame'>\n",
      "RangeIndex: 41 entries, 0 to 40\n",
      "Data columns (total 10 columns):\n",
      " #   Column         Non-Null Count  Dtype \n",
      "---  ------         --------------  ----- \n",
      " 0   PriceTotal     41 non-null     object\n",
      " 1   Meterage       41 non-null     object\n",
      " 2   Year           41 non-null     object\n",
      " 3   Room No        41 non-null     object\n",
      " 4   Floor No       41 non-null     object\n",
      " 5   Parking Lot    41 non-null     object\n",
      " 6   Elevator       41 non-null     object\n",
      " 7   Warehouse      41 non-null     object\n",
      " 8   Joint Parking  41 non-null     object\n",
      " 9   Address        41 non-null     object\n",
      "dtypes: object(10)\n",
      "memory usage: 3.3+ KB\n"
     ]
    }
   ],
   "source": [
    "df.info()"
   ]
  },
  {
   "cell_type": "code",
   "execution_count": 91,
   "id": "ed52e3cd-ef80-469a-af9a-cf8891f02750",
   "metadata": {},
   "outputs": [
    {
     "data": {
      "text/html": [
       "<div>\n",
       "<style scoped>\n",
       "    .dataframe tbody tr th:only-of-type {\n",
       "        vertical-align: middle;\n",
       "    }\n",
       "\n",
       "    .dataframe tbody tr th {\n",
       "        vertical-align: top;\n",
       "    }\n",
       "\n",
       "    .dataframe thead th {\n",
       "        text-align: right;\n",
       "    }\n",
       "</style>\n",
       "<table border=\"1\" class=\"dataframe\">\n",
       "  <thead>\n",
       "    <tr style=\"text-align: right;\">\n",
       "      <th></th>\n",
       "      <th>PriceTotal</th>\n",
       "      <th>Meterage</th>\n",
       "      <th>Year</th>\n",
       "      <th>Room No</th>\n",
       "      <th>Floor No</th>\n",
       "      <th>Parking Lot</th>\n",
       "      <th>Elevator</th>\n",
       "      <th>Warehouse</th>\n",
       "      <th>Joint Parking</th>\n",
       "      <th>Address</th>\n",
       "    </tr>\n",
       "  </thead>\n",
       "  <tbody>\n",
       "    <tr>\n",
       "      <th>0</th>\n",
       "      <td>7.55</td>\n",
       "      <td>90</td>\n",
       "      <td>1397</td>\n",
       "      <td>2</td>\n",
       "      <td>2</td>\n",
       "      <td>1</td>\n",
       "      <td>1</td>\n",
       "      <td>1</td>\n",
       "      <td>0</td>\n",
       "      <td>Behnood</td>\n",
       "    </tr>\n",
       "    <tr>\n",
       "      <th>1</th>\n",
       "      <td>2.25</td>\n",
       "      <td>37</td>\n",
       "      <td>1383</td>\n",
       "      <td>1</td>\n",
       "      <td>1</td>\n",
       "      <td>0</td>\n",
       "      <td>0</td>\n",
       "      <td>1</td>\n",
       "      <td>0</td>\n",
       "      <td>Ghasredasht_Behnood</td>\n",
       "    </tr>\n",
       "    <tr>\n",
       "      <th>2</th>\n",
       "      <td>3.95</td>\n",
       "      <td>59</td>\n",
       "      <td>1388</td>\n",
       "      <td>2</td>\n",
       "      <td>1</td>\n",
       "      <td>0</td>\n",
       "      <td>0</td>\n",
       "      <td>1</td>\n",
       "      <td>0</td>\n",
       "      <td>Ghasredasht_Behnood</td>\n",
       "    </tr>\n",
       "    <tr>\n",
       "      <th>3</th>\n",
       "      <td>3.35</td>\n",
       "      <td>63</td>\n",
       "      <td>1382</td>\n",
       "      <td>2</td>\n",
       "      <td>2</td>\n",
       "      <td>0</td>\n",
       "      <td>0</td>\n",
       "      <td>1</td>\n",
       "      <td>1</td>\n",
       "      <td>Mashouf_Behnood</td>\n",
       "    </tr>\n",
       "    <tr>\n",
       "      <th>4</th>\n",
       "      <td>2.85</td>\n",
       "      <td>70</td>\n",
       "      <td>1375</td>\n",
       "      <td>1</td>\n",
       "      <td>2</td>\n",
       "      <td>0</td>\n",
       "      <td>0</td>\n",
       "      <td>1</td>\n",
       "      <td>0</td>\n",
       "      <td>Karoon_Behnood</td>\n",
       "    </tr>\n",
       "  </tbody>\n",
       "</table>\n",
       "</div>"
      ],
      "text/plain": [
       "  PriceTotal Meterage  Year Room No Floor No Parking Lot Elevator Warehouse  \\\n",
       "0       7.55       90  1397       2        2           1        1         1   \n",
       "1       2.25       37  1383       1        1           0        0         1   \n",
       "2       3.95       59  1388       2        1           0        0         1   \n",
       "3       3.35       63  1382       2        2           0        0         1   \n",
       "4       2.85       70  1375       1        2           0        0         1   \n",
       "\n",
       "  Joint Parking              Address  \n",
       "0             0              Behnood  \n",
       "1             0  Ghasredasht_Behnood  \n",
       "2             0  Ghasredasht_Behnood  \n",
       "3             1      Mashouf_Behnood  \n",
       "4             0       Karoon_Behnood  "
      ]
     },
     "execution_count": 91,
     "metadata": {},
     "output_type": "execute_result"
    }
   ],
   "source": [
    "df.head()"
   ]
  },
  {
   "cell_type": "code",
   "execution_count": 92,
   "id": "2669642b-32c4-476b-a309-a3e6355732a6",
   "metadata": {},
   "outputs": [
    {
     "data": {
      "text/plain": [
       "<Axes: xlabel='PriceTotal', ylabel='Address'>"
      ]
     },
     "execution_count": 92,
     "metadata": {},
     "output_type": "execute_result"
    },
    {
     "data": {
      "image/png": "[encoded data removed]",
      "text/plain": [
       "<Figure size 640x480 with 1 Axes>"
      ]
     },
     "metadata": {},
     "output_type": "display_data"
    }
   ],
   "source": [
    "sns.boxplot(y='Address',x='PriceTotal',data=df,width=0.5)"
   ]
  },
  {
   "cell_type": "code",
   "execution_count": 93,
   "id": "1377792d-8f5e-4275-8717-271effdb0909",
   "metadata": {},
   "outputs": [
    {
     "data": {
      "text/plain": [
       "array([7.55, 2.25, 3.95, 3.35, 2.85, 5.7, 3.38, 3.5, 10.7, 3.4, 8.7, 4.95,\n",
       "       2.32, 2.6, 2.5, 11.7, 8.2, 3.26, 6.8, 3.3, 4, 4.6, 3.45, 5.63, 3,\n",
       "       3.99, 2.4, 2.8, 2.45, 3.85, 2.86, 3.05, 2.53, 2.27], dtype=object)"
      ]
     },
     "execution_count": 93,
     "metadata": {},
     "output_type": "execute_result"
    }
   ],
   "source": [
    "df['PriceTotal'].unique()"
   ]
  },
  {
   "cell_type": "code",
   "execution_count": 94,
   "id": "aba5f01a-14f0-4c87-9000-436269c0b699",
   "metadata": {},
   "outputs": [],
   "source": [
    "df['PriceTotal']=df['PriceTotal'].astype(float)"
   ]
  },
  {
   "cell_type": "code",
   "execution_count": 95,
   "id": "d1f350f6-2e47-47a5-a445-5dbfadb7a691",
   "metadata": {},
   "outputs": [
    {
     "data": {
      "text/plain": [
       "array([90, 37, 59, 63, 70, 100, 49, 145, 125, 69, 44, 147.5, 98, 45, 85,\n",
       "       62, 60, 79, 56, 72, 50, 36, 40, 53, 39, 58], dtype=object)"
      ]
     },
     "execution_count": 95,
     "metadata": {},
     "output_type": "execute_result"
    }
   ],
   "source": [
    "df['Meterage'].unique()"
   ]
  },
  {
   "cell_type": "code",
   "execution_count": 96,
   "id": "f91a8395-e4f7-455b-b21b-4a8e715a4846",
   "metadata": {},
   "outputs": [],
   "source": [
    "df['Meterage']=df['Meterage'].astype(float)"
   ]
  },
  {
   "cell_type": "code",
   "execution_count": 97,
   "id": "132270db-7486-46b3-9aee-e48217db4614",
   "metadata": {},
   "outputs": [],
   "source": [
    "df['Year']=df['Year'].astype(int)"
   ]
  },
  {
   "cell_type": "code",
   "execution_count": 98,
   "id": "b98c775c-67d1-4a8a-8532-1dbef078f095",
   "metadata": {},
   "outputs": [
    {
     "name": "stdout",
     "output_type": "stream",
     "text": [
      "<class 'pandas.core.frame.DataFrame'>\n",
      "RangeIndex: 41 entries, 0 to 40\n",
      "Data columns (total 10 columns):\n",
      " #   Column         Non-Null Count  Dtype  \n",
      "---  ------         --------------  -----  \n",
      " 0   PriceTotal     41 non-null     float64\n",
      " 1   Meterage       41 non-null     float64\n",
      " 2   Year           41 non-null     int32  \n",
      " 3   Room No        41 non-null     object \n",
      " 4   Floor No       41 non-null     object \n",
      " 5   Parking Lot    41 non-null     object \n",
      " 6   Elevator       41 non-null     object \n",
      " 7   Warehouse      41 non-null     object \n",
      " 8   Joint Parking  41 non-null     object \n",
      " 9   Address        41 non-null     object \n",
      "dtypes: float64(2), int32(1), object(7)\n",
      "memory usage: 3.2+ KB\n"
     ]
    }
   ],
   "source": [
    "df.info()"
   ]
  },
  {
   "cell_type": "code",
   "execution_count": 99,
   "id": "70a10559-85df-4409-b6f1-66ffd3471682",
   "metadata": {},
   "outputs": [
    {
     "data": {
      "text/plain": [
       "array([2, 1, 4, 3], dtype=object)"
      ]
     },
     "execution_count": 99,
     "metadata": {},
     "output_type": "execute_result"
    }
   ],
   "source": [
    "df['Room No'].unique()"
   ]
  },
  {
   "cell_type": "code",
   "execution_count": 100,
   "id": "70dc4385-1da0-4f2a-99b5-74e7f983af81",
   "metadata": {},
   "outputs": [
    {
     "data": {
      "text/plain": [
       "array([2, 1, 3, 5, 4], dtype=object)"
      ]
     },
     "execution_count": 100,
     "metadata": {},
     "output_type": "execute_result"
    }
   ],
   "source": [
    "df['Floor No'].unique()"
   ]
  },
  {
   "cell_type": "code",
   "execution_count": 101,
   "id": "1d1b2b67-c3ac-447c-a12a-b9d0a4e97082",
   "metadata": {},
   "outputs": [
    {
     "data": {
      "text/plain": [
       "array([1, 0], dtype=object)"
      ]
     },
     "execution_count": 101,
     "metadata": {},
     "output_type": "execute_result"
    }
   ],
   "source": [
    "df['Parking Lot'].unique()"
   ]
  },
  {
   "cell_type": "code",
   "execution_count": 102,
   "id": "597429b9-19c7-41ab-840f-da71c262d4e3",
   "metadata": {},
   "outputs": [
    {
     "data": {
      "text/plain": [
       "array([1, 0], dtype=object)"
      ]
     },
     "execution_count": 102,
     "metadata": {},
     "output_type": "execute_result"
    }
   ],
   "source": [
    "df['Elevator'].unique()"
   ]
  },
  {
   "cell_type": "code",
   "execution_count": 103,
   "id": "813342d3-5c8c-4105-b364-ec6a3d787fd7",
   "metadata": {},
   "outputs": [
    {
     "data": {
      "text/plain": [
       "array([1, 0], dtype=object)"
      ]
     },
     "execution_count": 103,
     "metadata": {},
     "output_type": "execute_result"
    }
   ],
   "source": [
    "df['Warehouse'].unique()"
   ]
  },
  {
   "cell_type": "code",
   "execution_count": 104,
   "id": "07e39822-e0b8-45c6-a2d4-f3828ccf0d98",
   "metadata": {},
   "outputs": [
    {
     "data": {
      "text/plain": [
       "<Axes: xlabel='Floor No', ylabel='count'>"
      ]
     },
     "execution_count": 104,
     "metadata": {},
     "output_type": "execute_result"
    },
    {
     "data": {
      "image/png": "[encoded data removed]",
      "text/plain": [
       "<Figure size 640x480 with 1 Axes>"
      ]
     },
     "metadata": {},
     "output_type": "display_data"
    }
   ],
   "source": [
    "sns.countplot(hue='Elevator',x='Floor No',data=df)"
   ]
  },
  {
   "cell_type": "code",
   "execution_count": 105,
   "id": "dfa0fe86-fdcb-4057-bf30-8c7bbed9fc0e",
   "metadata": {},
   "outputs": [
    {
     "data": {
      "text/plain": [
       "<Axes: xlabel='Elevator', ylabel='PriceTotal'>"
      ]
     },
     "execution_count": 105,
     "metadata": {},
     "output_type": "execute_result"
    },
    {
     "data": {
      "image/png": "[encoded data removed]",
      "text/plain": [
       "<Figure size 640x480 with 1 Axes>"
      ]
     },
     "metadata": {},
     "output_type": "display_data"
    }
   ],
   "source": [
    "sns.boxplot(x='Elevator',y='PriceTotal',data=df)"
   ]
  },
  {
   "cell_type": "code",
   "execution_count": 106,
   "id": "c7b6c02a-2b9a-4eb5-ba37-9573d48c31d3",
   "metadata": {},
   "outputs": [
    {
     "data": {
      "text/plain": [
       "<Axes: xlabel='Floor No', ylabel='PriceTotal'>"
      ]
     },
     "execution_count": 106,
     "metadata": {},
     "output_type": "execute_result"
    },
    {
     "data": {
      "image/png": "[encoded data removed]",
      "text/plain": [
       "<Figure size 640x480 with 1 Axes>"
      ]
     },
     "metadata": {},
     "output_type": "display_data"
    }
   ],
   "source": [
    "sns.boxplot(x='Floor No',y='PriceTotal',data=df)"
   ]
  },
  {
   "cell_type": "code",
   "execution_count": 107,
   "id": "e8fc4ef0-ab17-4376-a4f3-844bb8f2c67e",
   "metadata": {},
   "outputs": [
    {
     "data": {
      "text/plain": [
       "<Axes: xlabel='Room No', ylabel='Meterage'>"
      ]
     },
     "execution_count": 107,
     "metadata": {},
     "output_type": "execute_result"
    },
    {
     "data": {
      "image/png": "[encoded data removed]",
      "text/plain": [
       "<Figure size 640x480 with 1 Axes>"
      ]
     },
     "metadata": {},
     "output_type": "display_data"
    }
   ],
   "source": [
    "sns.boxplot(x='Room No',y='Meterage',data=df)"
   ]
  },
  {
   "cell_type": "code",
   "execution_count": 108,
   "id": "631021ab-b9ca-4dba-a3a7-99f043be5334",
   "metadata": {},
   "outputs": [],
   "source": [
    "# To minimise the number of dummy objects,'Floor Status' is defined to summarize the information about floors numbers.\n",
    "j=0\n",
    "for i in df['Elevator']:\n",
    "    if df.loc[j,'Floor No']>3:\n",
    "        df.loc[j,'Floor Status']=1\n",
    "    else:\n",
    "        df.loc[j,'Floor Status']=0\n",
    "    j=j+1"
   ]
  },
  {
   "cell_type": "code",
   "execution_count": 109,
   "id": "05d9acd5-0aee-4aaa-839d-d67c14987771",
   "metadata": {},
   "outputs": [
    {
     "data": {
      "text/html": [
       "<div>\n",
       "<style scoped>\n",
       "    .dataframe tbody tr th:only-of-type {\n",
       "        vertical-align: middle;\n",
       "    }\n",
       "\n",
       "    .dataframe tbody tr th {\n",
       "        vertical-align: top;\n",
       "    }\n",
       "\n",
       "    .dataframe thead th {\n",
       "        text-align: right;\n",
       "    }\n",
       "</style>\n",
       "<table border=\"1\" class=\"dataframe\">\n",
       "  <thead>\n",
       "    <tr style=\"text-align: right;\">\n",
       "      <th></th>\n",
       "      <th>PriceTotal</th>\n",
       "      <th>Meterage</th>\n",
       "      <th>Year</th>\n",
       "      <th>Room No</th>\n",
       "      <th>Floor No</th>\n",
       "      <th>Parking Lot</th>\n",
       "      <th>Elevator</th>\n",
       "      <th>Warehouse</th>\n",
       "      <th>Joint Parking</th>\n",
       "      <th>Address</th>\n",
       "      <th>Floor Status</th>\n",
       "    </tr>\n",
       "  </thead>\n",
       "  <tbody>\n",
       "    <tr>\n",
       "      <th>36</th>\n",
       "      <td>3.05</td>\n",
       "      <td>50.0</td>\n",
       "      <td>1382</td>\n",
       "      <td>1</td>\n",
       "      <td>3</td>\n",
       "      <td>1</td>\n",
       "      <td>0</td>\n",
       "      <td>1</td>\n",
       "      <td>0</td>\n",
       "      <td>Ghasredasht_Behnood</td>\n",
       "      <td>0.0</td>\n",
       "    </tr>\n",
       "    <tr>\n",
       "      <th>37</th>\n",
       "      <td>2.50</td>\n",
       "      <td>40.0</td>\n",
       "      <td>1380</td>\n",
       "      <td>1</td>\n",
       "      <td>4</td>\n",
       "      <td>0</td>\n",
       "      <td>0</td>\n",
       "      <td>1</td>\n",
       "      <td>0</td>\n",
       "      <td>Ghasredasht_Behnood</td>\n",
       "      <td>1.0</td>\n",
       "    </tr>\n",
       "    <tr>\n",
       "      <th>38</th>\n",
       "      <td>2.53</td>\n",
       "      <td>39.0</td>\n",
       "      <td>1382</td>\n",
       "      <td>1</td>\n",
       "      <td>3</td>\n",
       "      <td>0</td>\n",
       "      <td>0</td>\n",
       "      <td>1</td>\n",
       "      <td>0</td>\n",
       "      <td>Azerbaijan_Behnood</td>\n",
       "      <td>0.0</td>\n",
       "    </tr>\n",
       "    <tr>\n",
       "      <th>39</th>\n",
       "      <td>3.00</td>\n",
       "      <td>58.0</td>\n",
       "      <td>1382</td>\n",
       "      <td>1</td>\n",
       "      <td>4</td>\n",
       "      <td>0</td>\n",
       "      <td>0</td>\n",
       "      <td>1</td>\n",
       "      <td>0</td>\n",
       "      <td>Ghasredasht_Behnood</td>\n",
       "      <td>1.0</td>\n",
       "    </tr>\n",
       "    <tr>\n",
       "      <th>40</th>\n",
       "      <td>2.27</td>\n",
       "      <td>36.0</td>\n",
       "      <td>1380</td>\n",
       "      <td>1</td>\n",
       "      <td>3</td>\n",
       "      <td>0</td>\n",
       "      <td>0</td>\n",
       "      <td>1</td>\n",
       "      <td>0</td>\n",
       "      <td>Karoon_Behnood</td>\n",
       "      <td>0.0</td>\n",
       "    </tr>\n",
       "  </tbody>\n",
       "</table>\n",
       "</div>"
      ],
      "text/plain": [
       "    PriceTotal  Meterage  Year Room No Floor No Parking Lot Elevator  \\\n",
       "36        3.05      50.0  1382       1        3           1        0   \n",
       "37        2.50      40.0  1380       1        4           0        0   \n",
       "38        2.53      39.0  1382       1        3           0        0   \n",
       "39        3.00      58.0  1382       1        4           0        0   \n",
       "40        2.27      36.0  1380       1        3           0        0   \n",
       "\n",
       "   Warehouse Joint Parking              Address  Floor Status  \n",
       "36         1             0  Ghasredasht_Behnood           0.0  \n",
       "37         1             0  Ghasredasht_Behnood           1.0  \n",
       "38         1             0   Azerbaijan_Behnood           0.0  \n",
       "39         1             0  Ghasredasht_Behnood           1.0  \n",
       "40         1             0       Karoon_Behnood           0.0  "
      ]
     },
     "execution_count": 109,
     "metadata": {},
     "output_type": "execute_result"
    }
   ],
   "source": [
    "df.tail()"
   ]
  },
  {
   "cell_type": "code",
   "execution_count": 110,
   "id": "41b8203d-8830-43e0-81c3-54515f5134ad",
   "metadata": {},
   "outputs": [],
   "source": [
    "# 'Floor Status' is defined to substitute 'Floor No'. \n",
    "# In addition, It seems that 'Room No' is highly correlated with 'Meterage'. \n",
    "# So 'Room No' and'Floor No' are droped.\n",
    "df.drop(['Room No','Floor No'],axis=1,inplace=True)\n",
    "df_object = df.drop(df[['PriceTotal','Meterage','Year']],axis=1)"
   ]
  },
  {
   "cell_type": "code",
   "execution_count": 111,
   "id": "cff7732d-2743-4675-856e-2e3c2ebf7078",
   "metadata": {},
   "outputs": [
    {
     "name": "stdout",
     "output_type": "stream",
     "text": [
      "<class 'pandas.core.frame.DataFrame'>\n",
      "RangeIndex: 41 entries, 0 to 40\n",
      "Data columns (total 6 columns):\n",
      " #   Column         Non-Null Count  Dtype  \n",
      "---  ------         --------------  -----  \n",
      " 0   Parking Lot    41 non-null     object \n",
      " 1   Elevator       41 non-null     object \n",
      " 2   Warehouse      41 non-null     object \n",
      " 3   Joint Parking  41 non-null     object \n",
      " 4   Address        41 non-null     object \n",
      " 5   Floor Status   41 non-null     float64\n",
      "dtypes: float64(1), object(5)\n",
      "memory usage: 2.1+ KB\n"
     ]
    }
   ],
   "source": [
    "df_object.info()"
   ]
  },
  {
   "cell_type": "code",
   "execution_count": 112,
   "id": "fc3acf93-d867-44cb-9dd9-99441c81d735",
   "metadata": {},
   "outputs": [
    {
     "name": "stdout",
     "output_type": "stream",
     "text": [
      "<class 'pandas.core.frame.DataFrame'>\n",
      "RangeIndex: 41 entries, 0 to 40\n",
      "Data columns (total 9 columns):\n",
      " #   Column         Non-Null Count  Dtype  \n",
      "---  ------         --------------  -----  \n",
      " 0   PriceTotal     41 non-null     float64\n",
      " 1   Meterage       41 non-null     float64\n",
      " 2   Year           41 non-null     int32  \n",
      " 3   Parking Lot    41 non-null     object \n",
      " 4   Elevator       41 non-null     object \n",
      " 5   Warehouse      41 non-null     object \n",
      " 6   Joint Parking  41 non-null     object \n",
      " 7   Address        41 non-null     object \n",
      " 8   Floor Status   41 non-null     float64\n",
      "dtypes: float64(3), int32(1), object(5)\n",
      "memory usage: 2.9+ KB\n"
     ]
    }
   ],
   "source": [
    "df.info()"
   ]
  },
  {
   "cell_type": "code",
   "execution_count": 113,
   "id": "a289a142-e03b-4a8e-98b1-ce057312ac7f",
   "metadata": {},
   "outputs": [],
   "source": [
    "# Make dummies from object predictors.\n",
    "df_dummy=pd.get_dummies(df_object,drop_first=True)"
   ]
  },
  {
   "cell_type": "code",
   "execution_count": 114,
   "id": "eb4cad01-356c-491c-ae93-ea1b2fef0911",
   "metadata": {},
   "outputs": [
    {
     "data": {
      "text/plain": [
       "(41, 10)"
      ]
     },
     "execution_count": 114,
     "metadata": {},
     "output_type": "execute_result"
    }
   ],
   "source": [
    "df_dummy = df_dummy.astype(int)\n",
    "df_dummy.shape"
   ]
  },
  {
   "cell_type": "code",
   "execution_count": 115,
   "id": "731a4f63-a52e-4a4c-b3ac-7b7e795eca0c",
   "metadata": {},
   "outputs": [],
   "source": [
    "# Make output as y and and inputs as X\n",
    "df.drop(df_object,axis=1,inplace=True)\n",
    "y = df['PriceTotal']\n",
    "X = df.drop('PriceTotal',axis=1)"
   ]
  },
  {
   "cell_type": "code",
   "execution_count": 116,
   "id": "16c68daa-21c7-44c4-8a75-eb31df71cff2",
   "metadata": {},
   "outputs": [],
   "source": [
    "# There are now two columns 'Meterage' and 'Year' in X.\n",
    "# Normalize X (min=0, max=1)\n",
    "from sklearn.preprocessing import MinMaxScaler\n",
    "scaler=MinMaxScaler()\n",
    "X_scaled = scaler.fit_transform(X)\n",
    "X=pd.DataFrame(X_scaled,columns=X.columns)"
   ]
  },
  {
   "cell_type": "code",
   "execution_count": 117,
   "id": "a1c6067c-99b5-406d-bd3b-f62e25da19c4",
   "metadata": {},
   "outputs": [
    {
     "data": {
      "text/plain": [
       "(41, 12)"
      ]
     },
     "execution_count": 117,
     "metadata": {},
     "output_type": "execute_result"
    }
   ],
   "source": [
    "X=pd.concat([X,df_dummy],axis=1)\n",
    "X.shape"
   ]
  },
  {
   "cell_type": "code",
   "execution_count": 118,
   "id": "3c32f3a7-a531-41c0-b510-466e2f3b3446",
   "metadata": {},
   "outputs": [
    {
     "name": "stdout",
     "output_type": "stream",
     "text": [
      "<class 'pandas.core.frame.DataFrame'>\n",
      "RangeIndex: 41 entries, 0 to 40\n",
      "Data columns (total 12 columns):\n",
      " #   Column                       Non-Null Count  Dtype  \n",
      "---  ------                       --------------  -----  \n",
      " 0   Meterage                     41 non-null     float64\n",
      " 1   Year                         41 non-null     float64\n",
      " 2   Floor Status                 41 non-null     int32  \n",
      " 3   Parking Lot_1                41 non-null     int32  \n",
      " 4   Elevator_1                   41 non-null     int32  \n",
      " 5   Warehouse_1                  41 non-null     int32  \n",
      " 6   Joint Parking_1              41 non-null     int32  \n",
      " 7   Address_Behnood              41 non-null     int32  \n",
      " 8   Address_Ghasredasht_Behnood  41 non-null     int32  \n",
      " 9   Address_Jeyhoon_Behnood      41 non-null     int32  \n",
      " 10  Address_Karoon_Behnood       41 non-null     int32  \n",
      " 11  Address_Mashouf_Behnood      41 non-null     int32  \n",
      "dtypes: float64(2), int32(10)\n",
      "memory usage: 2.4 KB\n"
     ]
    }
   ],
   "source": [
    "X.info()"
   ]
  },
  {
   "cell_type": "code",
   "execution_count": 119,
   "id": "20d96132-c811-413f-8b2d-a79bc4bb948f",
   "metadata": {},
   "outputs": [
    {
     "data": {
      "text/html": [
       "<div>\n",
       "<style scoped>\n",
       "    .dataframe tbody tr th:only-of-type {\n",
       "        vertical-align: middle;\n",
       "    }\n",
       "\n",
       "    .dataframe tbody tr th {\n",
       "        vertical-align: top;\n",
       "    }\n",
       "\n",
       "    .dataframe thead th {\n",
       "        text-align: right;\n",
       "    }\n",
       "</style>\n",
       "<table border=\"1\" class=\"dataframe\">\n",
       "  <thead>\n",
       "    <tr style=\"text-align: right;\">\n",
       "      <th></th>\n",
       "      <th>Meterage</th>\n",
       "      <th>Year</th>\n",
       "      <th>Floor Status</th>\n",
       "      <th>Parking Lot_1</th>\n",
       "      <th>Elevator_1</th>\n",
       "      <th>Warehouse_1</th>\n",
       "      <th>Joint Parking_1</th>\n",
       "      <th>Address_Behnood</th>\n",
       "      <th>Address_Ghasredasht_Behnood</th>\n",
       "      <th>Address_Jeyhoon_Behnood</th>\n",
       "      <th>Address_Karoon_Behnood</th>\n",
       "      <th>Address_Mashouf_Behnood</th>\n",
       "    </tr>\n",
       "  </thead>\n",
       "  <tbody>\n",
       "    <tr>\n",
       "      <th>0</th>\n",
       "      <td>0.484305</td>\n",
       "      <td>0.838710</td>\n",
       "      <td>0</td>\n",
       "      <td>1</td>\n",
       "      <td>1</td>\n",
       "      <td>1</td>\n",
       "      <td>0</td>\n",
       "      <td>1</td>\n",
       "      <td>0</td>\n",
       "      <td>0</td>\n",
       "      <td>0</td>\n",
       "      <td>0</td>\n",
       "    </tr>\n",
       "    <tr>\n",
       "      <th>1</th>\n",
       "      <td>0.008969</td>\n",
       "      <td>0.387097</td>\n",
       "      <td>0</td>\n",
       "      <td>0</td>\n",
       "      <td>0</td>\n",
       "      <td>1</td>\n",
       "      <td>0</td>\n",
       "      <td>0</td>\n",
       "      <td>1</td>\n",
       "      <td>0</td>\n",
       "      <td>0</td>\n",
       "      <td>0</td>\n",
       "    </tr>\n",
       "    <tr>\n",
       "      <th>2</th>\n",
       "      <td>0.206278</td>\n",
       "      <td>0.548387</td>\n",
       "      <td>0</td>\n",
       "      <td>0</td>\n",
       "      <td>0</td>\n",
       "      <td>1</td>\n",
       "      <td>0</td>\n",
       "      <td>0</td>\n",
       "      <td>1</td>\n",
       "      <td>0</td>\n",
       "      <td>0</td>\n",
       "      <td>0</td>\n",
       "    </tr>\n",
       "    <tr>\n",
       "      <th>3</th>\n",
       "      <td>0.242152</td>\n",
       "      <td>0.354839</td>\n",
       "      <td>0</td>\n",
       "      <td>0</td>\n",
       "      <td>0</td>\n",
       "      <td>1</td>\n",
       "      <td>1</td>\n",
       "      <td>0</td>\n",
       "      <td>0</td>\n",
       "      <td>0</td>\n",
       "      <td>0</td>\n",
       "      <td>1</td>\n",
       "    </tr>\n",
       "    <tr>\n",
       "      <th>4</th>\n",
       "      <td>0.304933</td>\n",
       "      <td>0.129032</td>\n",
       "      <td>0</td>\n",
       "      <td>0</td>\n",
       "      <td>0</td>\n",
       "      <td>1</td>\n",
       "      <td>0</td>\n",
       "      <td>0</td>\n",
       "      <td>0</td>\n",
       "      <td>0</td>\n",
       "      <td>1</td>\n",
       "      <td>0</td>\n",
       "    </tr>\n",
       "  </tbody>\n",
       "</table>\n",
       "</div>"
      ],
      "text/plain": [
       "   Meterage      Year  Floor Status  Parking Lot_1  Elevator_1  Warehouse_1  \\\n",
       "0  0.484305  0.838710             0              1           1            1   \n",
       "1  0.008969  0.387097             0              0           0            1   \n",
       "2  0.206278  0.548387             0              0           0            1   \n",
       "3  0.242152  0.354839             0              0           0            1   \n",
       "4  0.304933  0.129032             0              0           0            1   \n",
       "\n",
       "   Joint Parking_1  Address_Behnood  Address_Ghasredasht_Behnood  \\\n",
       "0                0                1                            0   \n",
       "1                0                0                            1   \n",
       "2                0                0                            1   \n",
       "3                1                0                            0   \n",
       "4                0                0                            0   \n",
       "\n",
       "   Address_Jeyhoon_Behnood  Address_Karoon_Behnood  Address_Mashouf_Behnood  \n",
       "0                        0                       0                        0  \n",
       "1                        0                       0                        0  \n",
       "2                        0                       0                        0  \n",
       "3                        0                       0                        1  \n",
       "4                        0                       1                        0  "
      ]
     },
     "execution_count": 119,
     "metadata": {},
     "output_type": "execute_result"
    }
   ],
   "source": [
    "X.head()"
   ]
  },
  {
   "cell_type": "code",
   "execution_count": 120,
   "id": "53270b06-693e-4d11-a957-45a9c242d5b0",
   "metadata": {},
   "outputs": [
    {
     "data": {
      "text/plain": [
       "0    7.55\n",
       "1    2.25\n",
       "2    3.95\n",
       "3    3.35\n",
       "4    2.85\n",
       "Name: PriceTotal, dtype: float64"
      ]
     },
     "execution_count": 120,
     "metadata": {},
     "output_type": "execute_result"
    }
   ],
   "source": [
    "y.head()"
   ]
  },
  {
   "cell_type": "code",
   "execution_count": 121,
   "id": "8b3c2d58-1cd2-4b91-9484-31a2c98c60ff",
   "metadata": {},
   "outputs": [],
   "source": [
    "# Split tran and test datasets.\n",
    "X_train,X_test,y_train,y_test=train_test_split(X,y,test_size=0.2,random_state=101)"
   ]
  },
  {
   "cell_type": "code",
   "execution_count": 122,
   "id": "8b911896-d377-4b4c-9280-54b7f228fce8",
   "metadata": {},
   "outputs": [],
   "source": [
    "# Use Linear Regression to train data\n",
    "lm=LinearRegression()\n",
    "result=lm.fit(X_train,y_train)"
   ]
  },
  {
   "cell_type": "code",
   "execution_count": 123,
   "id": "5716e766-eae1-4bce-9657-eeac39cf032c",
   "metadata": {},
   "outputs": [],
   "source": [
    "# Predict total price by the trained model and input test dataset.\n",
    "y_hat = lm.predict(X_test)"
   ]
  },
  {
   "cell_type": "code",
   "execution_count": 124,
   "id": "d9b962c2-4221-4364-89a4-c956a57dd3f0",
   "metadata": {},
   "outputs": [
    {
     "data": {
      "text/plain": [
       "0.9739673793700925"
      ]
     },
     "execution_count": 124,
     "metadata": {},
     "output_type": "execute_result"
    }
   ],
   "source": [
    "# Accuracy score of the model for train dataset.\n",
    "lm.score(X_train,y_train)"
   ]
  },
  {
   "cell_type": "code",
   "execution_count": 125,
   "id": "d9e3fd82-0d90-4c25-a2ba-f8c6e73b88a2",
   "metadata": {},
   "outputs": [
    {
     "data": {
      "text/plain": [
       "0.9315573676523302"
      ]
     },
     "execution_count": 125,
     "metadata": {},
     "output_type": "execute_result"
    }
   ],
   "source": [
    "# Accuracy score of the model for test dataset.\n",
    "lm.score(X_test,y_test)"
   ]
  },
  {
   "cell_type": "code",
   "execution_count": 126,
   "id": "7eae0e9c-44ad-4e0b-869a-45d10dbec504",
   "metadata": {},
   "outputs": [
    {
     "name": "stdout",
     "output_type": "stream",
     "text": [
      "Coefficients: \n",
      " [ 6.97705775  3.3515428  -0.20072984  0.36490353  0.03882517 -0.56410156\n",
      "  0.09611207  0.12657573 -0.19486718 -0.67519391 -0.21465025 -0.01720056]\n",
      "intercept: \n",
      " 1.3693317918551267\n",
      "Mean squared error: 0.28\n",
      "Coefficient of determination: 0.93\n"
     ]
    }
   ],
   "source": [
    "from sklearn import datasets, linear_model\n",
    "from sklearn.metrics import mean_squared_error, r2_score\n",
    "\n",
    "# The coefficients\n",
    "coefs = lm.coef_\n",
    "intercept = lm.intercept_ \n",
    "print(\"Coefficients: \\n\", coefs)\n",
    "print(\"intercept: \\n\", intercept)\n",
    "\n",
    "# The mean squared error\n",
    "print(\"Mean squared error: %.2f\" % mean_squared_error(y_test, y_hat))\n",
    "\n",
    "# The coefficient of determination: 1 is perfect prediction\n",
    "print(\"Coefficient of determination: %.2f\" % r2_score(y_test, y_hat))"
   ]
  },
  {
   "cell_type": "code",
   "execution_count": 127,
   "id": "80045ff7-d350-44ae-897d-c98bd1081ee0",
   "metadata": {},
   "outputs": [
    {
     "data": {
      "text/plain": [
       "(12,)"
      ]
     },
     "execution_count": 127,
     "metadata": {},
     "output_type": "execute_result"
    }
   ],
   "source": [
    "coefs.shape"
   ]
  },
  {
   "cell_type": "code",
   "execution_count": 128,
   "id": "5987fe87-987d-4a52-883d-8c7132fdb776",
   "metadata": {},
   "outputs": [
    {
     "data": {
      "text/plain": [
       "Index(['Meterage', 'Year', 'Floor Status', 'Parking Lot_1', 'Elevator_1',\n",
       "       'Warehouse_1', 'Joint Parking_1', 'Address_Behnood',\n",
       "       'Address_Ghasredasht_Behnood', 'Address_Jeyhoon_Behnood',\n",
       "       'Address_Karoon_Behnood', 'Address_Mashouf_Behnood'],\n",
       "      dtype='object')"
      ]
     },
     "execution_count": 128,
     "metadata": {},
     "output_type": "execute_result"
    }
   ],
   "source": [
    "X.columns"
   ]
  },
  {
   "cell_type": "code",
   "execution_count": 129,
   "id": "fb92e322-c998-4455-bdeb-bb1907530e8e",
   "metadata": {},
   "outputs": [
    {
     "data": {
      "text/plain": [
       "<seaborn.axisgrid.JointGrid at 0x1fed2df7550>"
      ]
     },
     "execution_count": 129,
     "metadata": {},
     "output_type": "execute_result"
    },
    {
     "data": {
      "image/png": "[encoded data removed]",
      "text/plain": [
       "<Figure size 600x600 with 3 Axes>"
      ]
     },
     "metadata": {},
     "output_type": "display_data"
    }
   ],
   "source": [
    "# Plot outputs\n",
    "sns.jointplot(y=y_hat, x=y_test, kind='reg')\n"
   ]
  },
  {
   "cell_type": "code",
   "execution_count": 130,
   "id": "a5212ea2-7ccb-4fb4-a57d-d28c6c790eef",
   "metadata": {},
   "outputs": [],
   "source": [
    "from scipy import stats"
   ]
  },
  {
   "cell_type": "code",
   "execution_count": 131,
   "id": "7962abb2-6bea-41b6-bc21-2ec355c787e7",
   "metadata": {},
   "outputs": [
    {
     "name": "stdout",
     "output_type": "stream",
     "text": [
      "Year -----t= -4.948377820063441 -----p= 0.00014524960861465994\n",
      "Parking Lot_1 -----t= -5.1110778143983095 -----p= 0.00010467533063676632\n",
      "Elevator_1 -----t= -5.1110778143983095 -----p= 0.00010467533063676632\n",
      "Warehouse_1 -----t= -4.51443409537627 -----p= 0.00035285332201998406\n"
     ]
    },
    {
     "name": "stderr",
     "output_type": "stream",
     "text": [
      "C:\\Python\\Python311\\Lib\\site-packages\\scipy\\stats\\_axis_nan_policy.py:523: RuntimeWarning: Precision loss occurred in moment calculation due to catastrophic cancellation. This occurs when the data are nearly identical. Results may be unreliable.\n",
      "  res = hypotest_fun_out(*samples, **kwds)\n"
     ]
    }
   ],
   "source": [
    "# Claculating t-stat and p-value for predictors.\n",
    "j=0\n",
    "k=0\n",
    "t_stat_all=[]\n",
    "p_value_all=[]\n",
    "\n",
    "# When p-value is more than 0.0001, maybe the relationship between price and the predictor is weaker.\n",
    "for i in X.columns:\n",
    "    t_stat, p_value = stats.ttest_ind(X_test[i], y_hat)\n",
    "    t_stat_all.append(t_stat)\n",
    "    p_value_all.append(p_value)\n",
    "    if p_value_all[j] >0.0001:\n",
    "        k=k+1\n",
    "        print(i,'-----t=',t_stat,'-----p=',p_value)\n",
    "    j=j+1"
   ]
  },
  {
   "cell_type": "code",
   "execution_count": 132,
   "id": "3d01db4a-67c8-4862-92e3-fca7ee9d5bb9",
   "metadata": {},
   "outputs": [],
   "source": [
    "#Enter a sample to predict the price using the trained model. \n",
    "Example1 = pd.read_excel('Our House Prediction.xlsx')"
   ]
  },
  {
   "cell_type": "code",
   "execution_count": 133,
   "id": "d38d2f6f-3235-491b-a610-b4ea0901b8a3",
   "metadata": {},
   "outputs": [
    {
     "data": {
      "text/html": [
       "<div>\n",
       "<style scoped>\n",
       "    .dataframe tbody tr th:only-of-type {\n",
       "        vertical-align: middle;\n",
       "    }\n",
       "\n",
       "    .dataframe tbody tr th {\n",
       "        vertical-align: top;\n",
       "    }\n",
       "\n",
       "    .dataframe thead th {\n",
       "        text-align: right;\n",
       "    }\n",
       "</style>\n",
       "<table border=\"1\" class=\"dataframe\">\n",
       "  <thead>\n",
       "    <tr style=\"text-align: right;\">\n",
       "      <th></th>\n",
       "      <th>PriceTotal</th>\n",
       "      <th>Meterage</th>\n",
       "      <th>Year</th>\n",
       "      <th>Room No</th>\n",
       "      <th>Floor No</th>\n",
       "      <th>Building Floors</th>\n",
       "      <th>Units Per Floor</th>\n",
       "      <th>Parking Lot</th>\n",
       "      <th>Elevator</th>\n",
       "      <th>Warehouse</th>\n",
       "      <th>...</th>\n",
       "      <th>Cooling</th>\n",
       "      <th>Water Heating</th>\n",
       "      <th>Hood</th>\n",
       "      <th>Desktop Stove</th>\n",
       "      <th>Closet</th>\n",
       "      <th>Building Direction</th>\n",
       "      <th>Apartment Direction</th>\n",
       "      <th>Joint Status</th>\n",
       "      <th>Address</th>\n",
       "      <th>Address in Farsi</th>\n",
       "    </tr>\n",
       "  </thead>\n",
       "  <tbody>\n",
       "    <tr>\n",
       "      <th>0</th>\n",
       "      <td>NaN</td>\n",
       "      <td>43.1</td>\n",
       "      <td>1381</td>\n",
       "      <td>1</td>\n",
       "      <td>4</td>\n",
       "      <td>4</td>\n",
       "      <td>2</td>\n",
       "      <td>0</td>\n",
       "      <td>0</td>\n",
       "      <td>1</td>\n",
       "      <td>...</td>\n",
       "      <td>0</td>\n",
       "      <td>1</td>\n",
       "      <td>3</td>\n",
       "      <td>1</td>\n",
       "      <td>1</td>\n",
       "      <td>North</td>\n",
       "      <td>North</td>\n",
       "      <td>1</td>\n",
       "      <td>Mashouf_Behnood</td>\n",
       "      <td>خیابان مشعوف آزادی</td>\n",
       "    </tr>\n",
       "  </tbody>\n",
       "</table>\n",
       "<p>1 rows × 29 columns</p>\n",
       "</div>"
      ],
      "text/plain": [
       "   PriceTotal  Meterage  Year  Room No  Floor No  Building Floors  \\\n",
       "0         NaN      43.1  1381        1         4                4   \n",
       "\n",
       "   Units Per Floor  Parking Lot  Elevator  Warehouse  ...  Cooling  \\\n",
       "0                2            0         0          1  ...        0   \n",
       "\n",
       "   Water Heating  Hood  Desktop Stove  Closet Building Direction  \\\n",
       "0              1     3              1       1              North   \n",
       "\n",
       "  Apartment Direction  Joint Status          Address    Address in Farsi  \n",
       "0               North             1  Mashouf_Behnood  خیابان مشعوف آزادی  \n",
       "\n",
       "[1 rows x 29 columns]"
      ]
     },
     "execution_count": 133,
     "metadata": {},
     "output_type": "execute_result"
    }
   ],
   "source": [
    "Example1"
   ]
  },
  {
   "cell_type": "code",
   "execution_count": 134,
   "id": "5ea9440c-a13a-432f-af48-e61946e1d76e",
   "metadata": {},
   "outputs": [
    {
     "data": {
      "text/plain": [
       "Index(['PriceTotal', 'Meterage', 'Year'], dtype='object')"
      ]
     },
     "execution_count": 134,
     "metadata": {},
     "output_type": "execute_result"
    }
   ],
   "source": [
    "df.columns"
   ]
  },
  {
   "cell_type": "code",
   "execution_count": 135,
   "id": "ccbd53c3-3d17-4585-a574-3578091e4be7",
   "metadata": {},
   "outputs": [],
   "source": [
    "Example1['Floor Status']=1\n",
    "Example1_notneeded = Example1.drop(df.columns,axis=1)\n",
    "Example1_notneeded = Example1_notneeded.drop(df_object.columns,axis=1)"
   ]
  },
  {
   "cell_type": "code",
   "execution_count": 136,
   "id": "8349cda3-5232-46e7-9c0a-bd74ef613e19",
   "metadata": {},
   "outputs": [],
   "source": [
    "Example1.drop(Example1_notneeded,axis=1,inplace=True)"
   ]
  },
  {
   "cell_type": "code",
   "execution_count": 137,
   "id": "6485220f-7729-4fdf-b1dc-01ff0b01e033",
   "metadata": {},
   "outputs": [
    {
     "name": "stdout",
     "output_type": "stream",
     "text": [
      "<class 'pandas.core.frame.DataFrame'>\n",
      "RangeIndex: 1 entries, 0 to 0\n",
      "Data columns (total 9 columns):\n",
      " #   Column         Non-Null Count  Dtype  \n",
      "---  ------         --------------  -----  \n",
      " 0   PriceTotal     0 non-null      float64\n",
      " 1   Meterage       1 non-null      float64\n",
      " 2   Year           1 non-null      int64  \n",
      " 3   Parking Lot    1 non-null      int64  \n",
      " 4   Elevator       1 non-null      int64  \n",
      " 5   Warehouse      1 non-null      int64  \n",
      " 6   Joint Parking  1 non-null      int64  \n",
      " 7   Address        1 non-null      object \n",
      " 8   Floor Status   1 non-null      int64  \n",
      "dtypes: float64(2), int64(6), object(1)\n",
      "memory usage: 204.0+ bytes\n"
     ]
    }
   ],
   "source": [
    "Example1.info()"
   ]
  },
  {
   "cell_type": "code",
   "execution_count": 138,
   "id": "bd714f3e-712f-4a64-b199-69db48533e20",
   "metadata": {},
   "outputs": [
    {
     "data": {
      "text/html": [
       "<div>\n",
       "<style scoped>\n",
       "    .dataframe tbody tr th:only-of-type {\n",
       "        vertical-align: middle;\n",
       "    }\n",
       "\n",
       "    .dataframe tbody tr th {\n",
       "        vertical-align: top;\n",
       "    }\n",
       "\n",
       "    .dataframe thead th {\n",
       "        text-align: right;\n",
       "    }\n",
       "</style>\n",
       "<table border=\"1\" class=\"dataframe\">\n",
       "  <thead>\n",
       "    <tr style=\"text-align: right;\">\n",
       "      <th></th>\n",
       "      <th>PriceTotal</th>\n",
       "      <th>Meterage</th>\n",
       "      <th>Year</th>\n",
       "      <th>Parking Lot</th>\n",
       "      <th>Elevator</th>\n",
       "      <th>Warehouse</th>\n",
       "      <th>Joint Parking</th>\n",
       "      <th>Address</th>\n",
       "      <th>Floor Status</th>\n",
       "    </tr>\n",
       "  </thead>\n",
       "  <tbody>\n",
       "    <tr>\n",
       "      <th>0</th>\n",
       "      <td>NaN</td>\n",
       "      <td>43.1</td>\n",
       "      <td>1381</td>\n",
       "      <td>0</td>\n",
       "      <td>0</td>\n",
       "      <td>1</td>\n",
       "      <td>0</td>\n",
       "      <td>Mashouf_Behnood</td>\n",
       "      <td>1</td>\n",
       "    </tr>\n",
       "  </tbody>\n",
       "</table>\n",
       "</div>"
      ],
      "text/plain": [
       "   PriceTotal  Meterage  Year  Parking Lot  Elevator  Warehouse  \\\n",
       "0         NaN      43.1  1381            0         0          1   \n",
       "\n",
       "   Joint Parking          Address  Floor Status  \n",
       "0              0  Mashouf_Behnood             1  "
      ]
     },
     "execution_count": 138,
     "metadata": {},
     "output_type": "execute_result"
    }
   ],
   "source": [
    "Example1.head()"
   ]
  },
  {
   "cell_type": "code",
   "execution_count": 139,
   "id": "b9809c20-02a9-4dae-a514-e8a635934b0d",
   "metadata": {},
   "outputs": [],
   "source": [
    "MinMeterage = df['Meterage'].min()\n",
    "MaxMeterage = df['Meterage'].max()\n",
    "\n",
    "MinYear = df['Year'].min()\n",
    "MaxYear = df['Year'].max()"
   ]
  },
  {
   "cell_type": "code",
   "execution_count": 140,
   "id": "ed8e01ce-4172-4be1-ae7e-e2a3eff02d18",
   "metadata": {},
   "outputs": [
    {
     "data": {
      "text/plain": [
       "0    1381\n",
       "Name: Year, dtype: int64"
      ]
     },
     "execution_count": 140,
     "metadata": {},
     "output_type": "execute_result"
    }
   ],
   "source": [
    "Example1['Year']"
   ]
  },
  {
   "cell_type": "code",
   "execution_count": 141,
   "id": "1017bb64-e2c5-42d3-8939-1314460ca0a6",
   "metadata": {},
   "outputs": [],
   "source": [
    "Example1['Meterage']=(Example1['Meterage']-MinMeterage)/(MaxMeterage-MinMeterage)\n",
    "Example1['Year']=(Example1['Year']-MinYear)/(MaxYear-MinYear)"
   ]
  },
  {
   "cell_type": "code",
   "execution_count": 142,
   "id": "7c445504-a949-456a-8961-80678279f461",
   "metadata": {},
   "outputs": [
    {
     "data": {
      "text/plain": [
       "0    0.063677\n",
       "Name: Meterage, dtype: float64"
      ]
     },
     "execution_count": 142,
     "metadata": {},
     "output_type": "execute_result"
    }
   ],
   "source": [
    "Example1['Meterage']"
   ]
  },
  {
   "cell_type": "code",
   "execution_count": 143,
   "id": "4cff452e-840d-4fa5-970a-23298b9ab74d",
   "metadata": {},
   "outputs": [
    {
     "data": {
      "text/plain": [
       "0    0.322581\n",
       "Name: Year, dtype: float64"
      ]
     },
     "execution_count": 143,
     "metadata": {},
     "output_type": "execute_result"
    }
   ],
   "source": [
    "Example1['Year']"
   ]
  },
  {
   "cell_type": "code",
   "execution_count": 144,
   "id": "cb2e2a0b-db83-4ffd-8886-7f39a6f37446",
   "metadata": {},
   "outputs": [
    {
     "name": "stdout",
     "output_type": "stream",
     "text": [
      "<class 'pandas.core.frame.DataFrame'>\n",
      "RangeIndex: 1 entries, 0 to 0\n",
      "Data columns (total 9 columns):\n",
      " #   Column         Non-Null Count  Dtype  \n",
      "---  ------         --------------  -----  \n",
      " 0   PriceTotal     0 non-null      float64\n",
      " 1   Meterage       1 non-null      float64\n",
      " 2   Year           1 non-null      float64\n",
      " 3   Parking Lot    1 non-null      int64  \n",
      " 4   Elevator       1 non-null      int64  \n",
      " 5   Warehouse      1 non-null      int64  \n",
      " 6   Joint Parking  1 non-null      int64  \n",
      " 7   Address        1 non-null      object \n",
      " 8   Floor Status   1 non-null      int64  \n",
      "dtypes: float64(3), int64(5), object(1)\n",
      "memory usage: 204.0+ bytes\n"
     ]
    }
   ],
   "source": [
    "Example1.info()"
   ]
  },
  {
   "cell_type": "code",
   "execution_count": 145,
   "id": "12d28f03-67f7-49ed-9557-3e0e6ee7ed15",
   "metadata": {},
   "outputs": [
    {
     "name": "stdout",
     "output_type": "stream",
     "text": [
      "<class 'pandas.core.frame.DataFrame'>\n",
      "RangeIndex: 41 entries, 0 to 40\n",
      "Data columns (total 12 columns):\n",
      " #   Column                       Non-Null Count  Dtype  \n",
      "---  ------                       --------------  -----  \n",
      " 0   Meterage                     41 non-null     float64\n",
      " 1   Year                         41 non-null     float64\n",
      " 2   Floor Status                 41 non-null     int32  \n",
      " 3   Parking Lot_1                41 non-null     int32  \n",
      " 4   Elevator_1                   41 non-null     int32  \n",
      " 5   Warehouse_1                  41 non-null     int32  \n",
      " 6   Joint Parking_1              41 non-null     int32  \n",
      " 7   Address_Behnood              41 non-null     int32  \n",
      " 8   Address_Ghasredasht_Behnood  41 non-null     int32  \n",
      " 9   Address_Jeyhoon_Behnood      41 non-null     int32  \n",
      " 10  Address_Karoon_Behnood       41 non-null     int32  \n",
      " 11  Address_Mashouf_Behnood      41 non-null     int32  \n",
      "dtypes: float64(2), int32(10)\n",
      "memory usage: 2.4 KB\n"
     ]
    }
   ],
   "source": [
    "X.info()"
   ]
  },
  {
   "cell_type": "code",
   "execution_count": 146,
   "id": "9e891303-e6df-4e1e-809d-eaf458e91313",
   "metadata": {},
   "outputs": [
    {
     "name": "stderr",
     "output_type": "stream",
     "text": [
      "C:\\Users\\Asus\\AppData\\Local\\Temp\\ipykernel_8132\\810785656.py:2: FutureWarning: Calling float on a single element Series is deprecated and will raise a TypeError in the future. Use float(ser.iloc[0]) instead\n",
      "  X_me['Meterage']=Example1['Meterage']\n",
      "C:\\Users\\Asus\\AppData\\Local\\Temp\\ipykernel_8132\\810785656.py:3: FutureWarning: Calling float on a single element Series is deprecated and will raise a TypeError in the future. Use float(ser.iloc[0]) instead\n",
      "  X_me['Year']=Example1['Year']\n"
     ]
    },
    {
     "data": {
      "text/plain": [
       "Meterage                       0.063677\n",
       "Year                           0.322581\n",
       "Floor Status                   0.000000\n",
       "Parking Lot_1                  1.000000\n",
       "Elevator_1                     1.000000\n",
       "Warehouse_1                    1.000000\n",
       "Joint Parking_1                0.000000\n",
       "Address_Behnood                1.000000\n",
       "Address_Ghasredasht_Behnood    0.000000\n",
       "Address_Jeyhoon_Behnood        0.000000\n",
       "Address_Karoon_Behnood         0.000000\n",
       "Address_Mashouf_Behnood        0.000000\n",
       "Name: 0, dtype: float64"
      ]
     },
     "execution_count": 146,
     "metadata": {},
     "output_type": "execute_result"
    }
   ],
   "source": [
    "X_me = X.loc[0,X.columns]\n",
    "X_me['Meterage']=Example1['Meterage']\n",
    "X_me['Year']=Example1['Year']\n",
    "X_me"
   ]
  },
  {
   "cell_type": "code",
   "execution_count": 147,
   "id": "0039fcdb-f769-4683-bb80-954ad8c69d8e",
   "metadata": {},
   "outputs": [],
   "source": [
    "X_me['Floor Status']=1\n",
    "X_me['Parking Lot_1']=0\n",
    "X_me['Elevator_1']=0\n",
    "X_me['Address_Behnood']=0\n",
    "X_me['Address_Mashouf_Behnood']=1"
   ]
  },
  {
   "cell_type": "code",
   "execution_count": 148,
   "id": "1d3cbf14-a246-423b-abdd-f3fbd4107561",
   "metadata": {},
   "outputs": [
    {
     "data": {
      "text/plain": [
       "Meterage                       0.063677\n",
       "Year                           0.322581\n",
       "Floor Status                   1.000000\n",
       "Parking Lot_1                  0.000000\n",
       "Elevator_1                     0.000000\n",
       "Warehouse_1                    1.000000\n",
       "Joint Parking_1                0.000000\n",
       "Address_Behnood                0.000000\n",
       "Address_Ghasredasht_Behnood    0.000000\n",
       "Address_Jeyhoon_Behnood        0.000000\n",
       "Address_Karoon_Behnood         0.000000\n",
       "Address_Mashouf_Behnood        1.000000\n",
       "Name: 0, dtype: float64"
      ]
     },
     "execution_count": 148,
     "metadata": {},
     "output_type": "execute_result"
    }
   ],
   "source": [
    "X_me"
   ]
  },
  {
   "cell_type": "code",
   "execution_count": 149,
   "id": "ad046bb9-0408-47df-bb71-8815afffae99",
   "metadata": {},
   "outputs": [
    {
     "data": {
      "text/plain": [
       "(12,)"
      ]
     },
     "execution_count": 149,
     "metadata": {},
     "output_type": "execute_result"
    }
   ],
   "source": [
    "X_me.shape"
   ]
  },
  {
   "cell_type": "code",
   "execution_count": 150,
   "id": "27d5d52e-a62e-477a-a02f-99724f7886b6",
   "metadata": {},
   "outputs": [
    {
     "data": {
      "text/plain": [
       "(12,)"
      ]
     },
     "execution_count": 150,
     "metadata": {},
     "output_type": "execute_result"
    }
   ],
   "source": [
    "coefs.shape"
   ]
  },
  {
   "cell_type": "code",
   "execution_count": 151,
   "id": "18bfca43-327d-4441-a9a1-fd7b90ffab3e",
   "metadata": {},
   "outputs": [
    {
     "data": {
      "text/plain": [
       "array([ 6.97705775,  3.3515428 , -0.20072984,  0.36490353,  0.03882517,\n",
       "       -0.56410156,  0.09611207,  0.12657573, -0.19486718, -0.67519391,\n",
       "       -0.21465025, -0.01720056])"
      ]
     },
     "execution_count": 151,
     "metadata": {},
     "output_type": "execute_result"
    }
   ],
   "source": [
    "coefs"
   ]
  },
  {
   "cell_type": "code",
   "execution_count": 154,
   "id": "f759e987-b13b-4b25-a80a-f926d3e676b5",
   "metadata": {},
   "outputs": [
    {
     "name": "stdout",
     "output_type": "stream",
     "text": [
      "2.112721688131823\n"
     ]
    }
   ],
   "source": [
    "# Price prediction for new sample.\n",
    "j=0\n",
    "price=0\n",
    "for i in X_me:\n",
    "    price=price+coefs[j]*i\n",
    "    j=j+1\n",
    "print(price+intercept)"
   ]
  },
  {
   "cell_type": "code",
   "execution_count": 155,
   "id": "044d6c4d-0a5f-4758-b498-21883e80cc9c",
   "metadata": {},
   "outputs": [
    {
     "data": {
      "text/plain": [
       "array([ 0,  1,  2,  3,  4,  5,  6,  7,  8,  9, 10, 11, 12, 13, 14, 15, 16,\n",
       "       17, 18, 19, 20, 21, 22, 23, 24, 25, 26, 27, 28, 29, 30, 31, 32, 33,\n",
       "       34, 35, 36, 37, 38, 39, 40])"
      ]
     },
     "execution_count": 155,
     "metadata": {},
     "output_type": "execute_result"
    }
   ],
   "source": [
    "np.arange(X.shape[0])"
   ]
  },
  {
   "cell_type": "code",
   "execution_count": 156,
   "id": "b4ab2e00-7321-423b-9f1f-c464927f8b5b",
   "metadata": {},
   "outputs": [],
   "source": [
    "# Calculate predicted price values using coefficients of the model.\n",
    "\n",
    "j=0 #column\n",
    "k=0 #row\n",
    "\n",
    "y_me=[]\n",
    "price=0\n",
    "for k in np.arange(X.shape[0]):\n",
    "    for i in X.iloc[k]:\n",
    "        price=price+coefs[j]*i\n",
    "        j=j+1\n",
    "    y_me.append(price+intercept)\n",
    "    price=0\n",
    "    j=0\n"
   ]
  },
  {
   "cell_type": "code",
   "execution_count": 157,
   "id": "92195b34-9428-4393-af0f-23e6d421af2b",
   "metadata": {},
   "outputs": [
    {
     "data": {
      "text/plain": [
       "[7.525529529190743,\n",
       " 1.9703089622497862,\n",
       " 3.8875195795587083,\n",
       " 3.7629106114259825,\n",
       " 3.150570423088239,\n",
       " 5.905194109294575,\n",
       " 3.832674052296676,\n",
       " 3.4972023458544537,\n",
       " 10.196940925132742,\n",
       " 3.6180238047566022,\n",
       " 8.51299360970219,\n",
       " 4.893930157513154,\n",
       " 2.1442323644149264,\n",
       " 2.8194262757300423,\n",
       " 2.057061861101821,\n",
       " 11.343159231060861,\n",
       " 8.422920730825144,\n",
       " 2.5790193180866803,\n",
       " 6.843344474621665,\n",
       " 3.270573526290499,\n",
       " 4.761217979615914,\n",
       " 3.6214245859290046,\n",
       " 3.6180238047566022,\n",
       " 4.277154853739088,\n",
       " 4.90299812684022,\n",
       " 3.6968961175044215,\n",
       " 5.963768511543972,\n",
       " 3.362009737028263,\n",
       " 3.436210360816839,\n",
       " 2.48596661112504,\n",
       " 4.210630408122297,\n",
       " 2.049918205336853,\n",
       " 3.6128778899726646,\n",
       " 2.9460020095873736,\n",
       " 4.977446547400305,\n",
       " 3.059339268916863,\n",
       " 3.040566820426702,\n",
       " 1.6329597995307885,\n",
       " 2.1822108790879957,\n",
       " 2.9755295291907524,\n",
       " 1.563608536784269]"
      ]
     },
     "execution_count": 157,
     "metadata": {},
     "output_type": "execute_result"
    }
   ],
   "source": [
    "y_me"
   ]
  },
  {
   "cell_type": "code",
   "execution_count": 158,
   "id": "cfcb394c-49a0-4c38-a008-de2d2e38be3f",
   "metadata": {},
   "outputs": [
    {
     "data": {
      "text/plain": [
       "0      7.55\n",
       "1      2.25\n",
       "2      3.95\n",
       "3      3.35\n",
       "4      2.85\n",
       "5      5.70\n",
       "6      3.38\n",
       "7      3.50\n",
       "8     10.70\n",
       "9      3.40\n",
       "10     8.70\n",
       "11     4.95\n",
       "12     2.32\n",
       "13     2.60\n",
       "14     2.50\n",
       "15    11.70\n",
       "16     8.20\n",
       "17     3.26\n",
       "18     6.80\n",
       "19     3.30\n",
       "20     4.00\n",
       "21     3.50\n",
       "22     3.40\n",
       "23     4.00\n",
       "24     4.60\n",
       "25     3.45\n",
       "26     5.63\n",
       "27     3.30\n",
       "28     3.30\n",
       "29     3.00\n",
       "30     3.99\n",
       "31     2.40\n",
       "32     2.80\n",
       "33     2.45\n",
       "34     3.85\n",
       "35     2.86\n",
       "36     3.05\n",
       "37     2.50\n",
       "38     2.53\n",
       "39     3.00\n",
       "40     2.27\n",
       "Name: PriceTotal, dtype: float64"
      ]
     },
     "execution_count": 158,
     "metadata": {},
     "output_type": "execute_result"
    }
   ],
   "source": [
    "df['PriceTotal']"
   ]
  },
  {
   "cell_type": "code",
   "execution_count": 159,
   "id": "827b4288-938f-441d-990d-366cf6db3758",
   "metadata": {},
   "outputs": [],
   "source": [
    "error = df['PriceTotal']-y_me"
   ]
  },
  {
   "cell_type": "code",
   "execution_count": 167,
   "id": "cdfbc629-49d2-472f-9864-b45acee2d80d",
   "metadata": {},
   "outputs": [
    {
     "data": {
      "image/png": "[encoded data removed]",
      "text/plain": [
       "<Figure size 600x600 with 3 Axes>"
      ]
     },
     "metadata": {},
     "output_type": "display_data"
    }
   ],
   "source": [
    "# Compare the predicted price values with real ones.\n",
    "\n",
    "h=sns.jointplot(y=y_me,x=df['PriceTotal'],kind='reg')\n",
    "\n",
    "h.set_axis_labels('Real Prices', 'Predicted Prices', fontsize=16)\n",
    "\n",
    "h.ax_marg_y.grid('on')\n",
    "h.ax_marg_x.grid('on')\n",
    "\n",
    "# labels appear outside of plot area, so auto-adjust\n",
    "h.figure.tight_layout() "
   ]
  },
  {
   "cell_type": "code",
   "execution_count": 168,
   "id": "6941ed6b-7853-4592-b873-41dc3a331db0",
   "metadata": {},
   "outputs": [
    {
     "data": {
      "image/png": "[encoded data removed]",
      "text/plain": [
       "<Figure size 600x600 with 3 Axes>"
      ]
     },
     "metadata": {},
     "output_type": "display_data"
    }
   ],
   "source": [
    "h2=sns.jointplot(y=error,x=df['PriceTotal'],kind='resid')\n",
    "h2.set_axis_labels('Real Prices', 'Error', fontsize=16)\n",
    "\n",
    "h2.ax_marg_y.grid('on')\n",
    "h2.ax_marg_x.grid('on')\n",
    "\n",
    "# labels appear outside of plot area, so auto-adjust\n",
    "h2.figure.tight_layout() "
   ]
  },
  {
   "cell_type": "code",
   "execution_count": 169,
   "id": "72d68e8f-7244-467a-a086-b471fd40f94c",
   "metadata": {},
   "outputs": [
    {
     "data": {
      "image/png": "[encoded data removed]",
      "text/plain": [
       "<Figure size 600x600 with 3 Axes>"
      ]
     },
     "metadata": {},
     "output_type": "display_data"
    }
   ],
   "source": [
    "h3=sns.jointplot(y=error,x=df['PriceTotal'],kind='kde')\n",
    "h3.set_axis_labels('Real Prices', 'Error', fontsize=16)\n",
    "# labels appear outside of plot area, so auto-adjust\n",
    "h3.figure.tight_layout() "
   ]
  },
  {
   "cell_type": "code",
   "execution_count": null,
   "id": "a1b1fa7d-6e43-419e-8f37-66f2d548a364",
   "metadata": {},
   "outputs": [],
   "source": []
  }
 ],
 "metadata": {
  "kernelspec": {
   "display_name": "Python 3 (ipykernel)",
   "language": "python",
   "name": "python3"
  },
  "language_info": {
   "codemirror_mode": {
    "name": "ipython",
    "version": 3
   },
   "file_extension": ".py",
   "mimetype": "text/x-python",
   "name": "python",
   "nbconvert_exporter": "python",
   "pygments_lexer": "ipython3",
   "version": "3.11.6"
  }
 },
 "nbformat": 4,
 "nbformat_minor": 5
}
